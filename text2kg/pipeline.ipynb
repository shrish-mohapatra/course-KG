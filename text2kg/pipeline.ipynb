{
 "cells": [
  {
   "cell_type": "markdown",
   "metadata": {},
   "source": [
    "# approach 1: using `pipe` library"
   ]
  },
  {
   "cell_type": "code",
   "execution_count": 3,
   "metadata": {},
   "outputs": [],
   "source": [
    "files = {\n",
    "    \"comp1405.txt\": \"Today's class we will discuss how for loops work.\\nFor loops are a looping structure similar to the while loops we discussed earlier.\"\n",
    "}\n",
    "\n",
    "def load_data(filename: str):\n",
    "    document = files[filename]\n",
    "    return document\n",
    "\n",
    "def partition_data(document: str):\n",
    "    return document.split(\"\\n\")\n",
    "\n",
    "def invoke_model(text: str):\n",
    "    return len(text)"
   ]
  },
  {
   "cell_type": "code",
   "execution_count": 13,
   "metadata": {},
   "outputs": [
    {
     "data": {
      "text/plain": [
       "[2]"
      ]
     },
     "execution_count": 13,
     "metadata": {},
     "output_type": "execute_result"
    }
   ],
   "source": [
    "from pipe import map\n",
    "\n",
    "file = \"comp1405.txt\"\n",
    "\n",
    "list([file] | map(load_data) | map(partition_data) | map(invoke_model))"
   ]
  },
  {
   "cell_type": "markdown",
   "metadata": {},
   "source": [
    "# approach 2: custom pipeline lib"
   ]
  },
  {
   "cell_type": "code",
   "execution_count": 15,
   "metadata": {},
   "outputs": [],
   "source": [
    "import abc\n",
    "from typing import List\n",
    "\n",
    "class Task(abc.ABC):\n",
    "    \"\"\"Unit of work that processes data and produces an output\"\"\"\n",
    "\n",
    "    @abc.abstractmethod\n",
    "    def process(self, data):\n",
    "        pass\n",
    "\n",
    "class LoadDocuments(Task):\n",
    "    documents = {\n",
    "        \"comp1405\": [\n",
    "            \"for loop\",\n",
    "            \"while loop\",\n",
    "            \"sorting\",\n",
    "        ]\n",
    "    }\n",
    "\n",
    "    def process(self, data):\n",
    "        document_path = data[\"document_path\"]\n",
    "        return LoadDocuments.documents[document_path]\n",
    "\n",
    "\n",
    "class SummarizeDocuments(Task):\n",
    "    def process(self, data: List[str]):\n",
    "        return [len(text) for text in data]\n",
    "\n",
    "\n",
    "class Pipeline:\n",
    "    def __init__(self, tasks: List[Task]):\n",
    "        self.tasks = tasks\n",
    "    \n",
    "    def run(self, data):\n",
    "        for task in self.tasks:\n",
    "            data = task.process(data)\n",
    "        return data"
   ]
  },
  {
   "cell_type": "code",
   "execution_count": 16,
   "metadata": {},
   "outputs": [
    {
     "data": {
      "text/plain": [
       "[8, 10, 7]"
      ]
     },
     "execution_count": 16,
     "metadata": {},
     "output_type": "execute_result"
    }
   ],
   "source": [
    "pipeline = Pipeline([\n",
    "    LoadDocuments(),\n",
    "    SummarizeDocuments(),\n",
    "])\n",
    "pipeline.run({\"document_path\": \"comp1405\"})"
   ]
  }
 ],
 "metadata": {
  "kernelspec": {
   "display_name": "Python 3",
   "language": "python",
   "name": "python3"
  },
  "language_info": {
   "codemirror_mode": {
    "name": "ipython",
    "version": 3
   },
   "file_extension": ".py",
   "mimetype": "text/x-python",
   "name": "python",
   "nbconvert_exporter": "python",
   "pygments_lexer": "ipython3",
   "version": "3.9.5"
  }
 },
 "nbformat": 4,
 "nbformat_minor": 2
}
