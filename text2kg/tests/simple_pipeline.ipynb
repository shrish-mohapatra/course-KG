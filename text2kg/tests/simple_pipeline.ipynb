{
 "cells": [
  {
   "cell_type": "code",
   "execution_count": 4,
   "metadata": {},
   "outputs": [],
   "source": [
    "import sys\n",
    "sys.path.append('../../')\n",
    "\n",
    "from text2kg.core import Pipeline, PipelineEngine, Task, MultiTask, LLMTask\n",
    "from text2kg.task import (\n",
    "    LoadFolder,\n",
    "    ExtractTranscripts,\n",
    "    SummarizeTranscripts,\n",
    "    SplitTranscripts,\n",
    ")\n",
    "import logging\n",
    "from typing import List"
   ]
  },
  {
   "cell_type": "code",
   "execution_count": 2,
   "metadata": {},
   "outputs": [],
   "source": [
    "class SimplePipelineEngine(PipelineEngine):\n",
    "    \"\"\"Simple pipeline implementation using Vanilla Python\"\"\"\n",
    "\n",
    "    def execute(self, tasks: List[Task]):\n",
    "        data = None\n",
    "        for task in tasks:\n",
    "            data = task.process(data)\n",
    "            print(f\"Completed task {task}\")\n",
    "        \n",
    "        return data"
   ]
  },
  {
   "cell_type": "code",
   "execution_count": 17,
   "metadata": {},
   "outputs": [],
   "source": [
    "class SelectFew(Task):\n",
    "    \"\"\"\n",
    "    Select few outputs for multi-output task.\n",
    "    Useful for testing :D\n",
    "    \"\"\"\n",
    "\n",
    "    def __init__(self, start_index=0, count=1):\n",
    "        \"\"\"\n",
    "        Args:\n",
    "        - start_index: index to start selection from multi-output\n",
    "        - count: number of outputs to select\n",
    "        \"\"\"\n",
    "        self.start_index = start_index\n",
    "        self.count = count\n",
    "\n",
    "    def process(self, data):\n",
    "        logging.info(f\"Selecting one data from={data}\")\n",
    "        result = data[self.start_index:self.start_index + self.count]\n",
    "        logging.info(f\"Selected result={result}\")\n",
    "        return result\n"
   ]
  },
  {
   "cell_type": "code",
   "execution_count": 71,
   "metadata": {},
   "outputs": [],
   "source": [
    "class GroupByFile(Task):\n",
    "    \"\"\"\n",
    "    Group array-like data by file\n",
    "    - input: [{file_path, summary}]\n",
    "    - output: [[{file_path1, summary}], [{file_path2, summary}]]\n",
    "    \"\"\"\n",
    "\n",
    "    def process(self, data):\n",
    "        logging.info(f\"Creating buckets for data={data}\")\n",
    "        buckets = {}\n",
    "\n",
    "        for single_data in data:\n",
    "            file_path = single_data[\"file_path\"]\n",
    "            if file_path not in buckets:\n",
    "                buckets[file_path] = []\n",
    "\n",
    "            buckets[file_path].append(single_data)\n",
    "\n",
    "        result = list(buckets.values())\n",
    "        logging.info(f\"Created {len(result)} buckets\")\n",
    "        logging.info(f\"Buckets={result}\")\n",
    "        return result"
   ]
  },
  {
   "cell_type": "code",
   "execution_count": 108,
   "metadata": {},
   "outputs": [],
   "source": [
    "class CreateKnowledgeGraphs(MultiTask, LLMTask):\n",
    "    \"\"\"\n",
    "    Invoke an LLM to create knowledge graphs based on summaries\n",
    "    - single_input: [{file_path, summary}]\n",
    "    - single_output: [{file_path, kg, contributors: [str]}]\n",
    "    \"\"\"\n",
    "\n",
    "    DEFAULT_SYSTEM_PROMPT = \"\"\"\n",
    "    Given the following key concepts extracted from a university lecture transcript, list the nodes and edges in JSON format that can form a knowledge graph based on the key topics.\n",
    "    Only create nodes based on large concepts. Only create an edge if the source concept is a prequisite to understand the target concept.\n",
    "    \"\"\"\n",
    "\n",
    "    DEFAULT_FORMAT_PROMPT = \"\"\"\n",
    "    # Output Format Instructions\n",
    "    Produce only JSON output and nothing else like so: ```json\\n{nodes: [{id: <name of concept>}...], edges: [{source: <id of source concept node>, target: <id of target concept node>}]}\\n```\n",
    "    # Key Concepts\n",
    "    \"\"\"\n",
    "\n",
    "    DEFAULT_PROMPT = DEFAULT_SYSTEM_PROMPT + DEFAULT_FORMAT_PROMPT\n",
    "\n",
    "    def __init__(self, prompt=DEFAULT_PROMPT, *args, **kwargs):\n",
    "        super().__init__(prompt, *args, **kwargs)\n",
    "\n",
    "    def process_single(self, single_data):\n",
    "        file_path = single_data[0][\"file_path\"]\n",
    "\n",
    "        logging.info(f\"Creating KG on {len(single_data)} summaries\")\n",
    "        joint_summaries = list(map(lambda x: x[\"summary\"], single_data))\n",
    "        joint_summaries_text = \"\\n\".join(joint_summaries)\n",
    "        # transcript = single_data['summary']\n",
    "\n",
    "        prompt = self.prompt.strip() + joint_summaries_text\n",
    "        logging.info(f\"Creating prompt of length={len(prompt)}\")\n",
    "        logging.info(f\"Creating prompt={prompt}\")\n",
    "        # print(f\"Creating prompt={prompt}\")\n",
    "\n",
    "        response = self._llm.generate(self.model, prompt)\n",
    "        llm_response = response[\"response\"]\n",
    "        logging.info(f\"Received LLM response={llm_response}\")\n",
    "\n",
    "        result = {\n",
    "            \"file_path\": file_path,\n",
    "            \"kg\": llm_response\n",
    "        }\n",
    "        return result"
   ]
  },
  {
   "cell_type": "code",
   "execution_count": 111,
   "metadata": {},
   "outputs": [
    {
     "name": "stdout",
     "output_type": "stream",
     "text": [
      "Completed task <text2kg.task.LoadFolder object at 0x7f722f469e10>\n"
     ]
    }
   ],
   "source": [
    "pipeline = Pipeline(\n",
    "    tasks=[\n",
    "        LoadFolder(folder_path=\"/home/student/course-materials\"),\n",
    "        # SelectFew(),\n",
    "        # SelectFew(start_index=11),\n",
    "        # ExtractTranscripts(),\n",
    "        # SelectFew(),\n",
    "        # SplitTranscripts(max_tokens=6000),\n",
    "        # SelectFew(count=4),\n",
    "        # SummarizeTranscripts(host=\"localhost:11434\"),\n",
    "        # GroupByFile(),\n",
    "        # CreateKnowledgeGraphs(),\n",
    "    ],\n",
    "    pipeline_engine=SimplePipelineEngine(),\n",
    ")\n",
    "output = pipeline.run()\n"
   ]
  },
  {
   "cell_type": "code",
   "execution_count": 114,
   "metadata": {},
   "outputs": [
    {
     "name": "stdout",
     "output_type": "stream",
     "text": [
      "88\n",
      "['/home/student/course-materials/COMP1405-F19/LectureCaptions/1405-dec2_(SD_Large_-_WEB_MBL_(H264_1500)).mp4.csv', '/home/student/course-materials/COMP1405-F19/LectureCaptions/(Supplementary) Data Representation Lecture Recording.mp4.csv', '/home/student/course-materials/COMP1405-F19/LectureCaptions/1405-nov20_(Source).mp4.csv', '/home/student/course-materials/COMP1405-F19/LectureCaptions/1405-nov27_(Source).mp4.csv', '/home/student/course-materials/COMP1405-F19/LectureCaptions/1405-nov18_(SD_Large_-_WEB_MBL_(H264_1500)).mp4.csv', '/home/student/course-materials/COMP1405-F19/LectureCaptions/1405-noc4_(Source).mp4.csv', '/home/student/course-materials/COMP1405-F19/LectureCaptions/1405-sept25_(SD_Large_-_WEB_MBL_(H264_1500)).mp4.csv', '/home/student/course-materials/COMP1405-F19/LectureCaptions/1405b-sept4_(Source).mp4.csv', '/home/student/course-materials/COMP1405-F19/LectureCaptions/1405-nov25_(Source).mp4.csv', '/home/student/course-materials/COMP1405-F19/LectureCaptions/1405-oct30_(SD_Large_-_WEB_MBL_(H264_1500)).mp4.csv', '/home/student/course-materials/COMP1405-F19/LectureCaptions/1405-nov6_(SD_Large_-_WEB_MBL_(H264_1500)).mp4.csv', '/home/student/course-materials/COMP1405-F19/LectureCaptions/1405-sept30_(SD_Large_-_WEB_MBL_(H264_1500)).mp4.csv', '/home/student/course-materials/COMP1405-F19/LectureCaptions/1405-sept9_(Basic_Small_-_WEB_MBL_(H264_600)).mp4.csv', '/home/student/course-materials/COMP1405-F19/LectureCaptions/1405-nov13_(SD_Large_-_WEB_MBL_(H264_1500)).mp4.csv', '/home/student/course-materials/COMP1405-F19/LectureCaptions/1405-sept18_(SD_Large_-_WEB_MBL_(H264_1500)).mp4.csv', '/home/student/course-materials/COMP1405-F19/LectureCaptions/1405-dec4_(Source).mp4.csv', '/home/student/course-materials/COMP1405-F19/LectureCaptions/1405-oct28_(Source).mp4.csv', '/home/student/course-materials/COMP1405-F19/LectureCaptions/1405-sept16_(SD_Large_-_WEB_MBL_(H264_1500)).mp4.csv', '/home/student/course-materials/COMP1405-F19/LectureCaptions/1405-oc2_(SD_Large_-_WEB_MBL_(H264_1500)).mp4.csv', '/home/student/course-materials/COMP1405-F19/LectureCaptions/comp1405-oct9_(SD_Large_-_WEB_MBL_(H264_1500)).mp4.csv', '/home/student/course-materials/COMP1405-F19/LectureCaptions/1405-nov-11_(SD_Large_-_WEB_MBL_(H264_1500)).mp4.csv', '/home/student/course-materials/COMP1405-F19/LectureCaptions/1405-oct_16_(Source).mp4.csv', '/home/student/course-materials/COMP4601-F23/Lecture Captions/Search Lecture Recording.mp4.csv', '/home/student/course-materials/COMP4601-F23/Lecture Captions/Page Rank Lecture Recording.mp4.csv', '/home/student/course-materials/COMP4601-F23/Lecture Captions/Intro to Recommender Systems Lecture Recording.mp4.csv', '/home/student/course-materials/COMP4601-F23/Lecture Captions/Evaluating Recommender Systems Lecture Recording.mp4.csv', '/home/student/course-materials/COMP4601-F23/Lecture Captions/Web Scraping Lecture Recording.mp4.csv', '/home/student/course-materials/COMP4601-F23/Lecture Captions/Web Crawling Lecture Recording.mp4.csv', '/home/student/course-materials/COMP4601-F23/Lecture Captions/Attacks on Recommender Systems Lecture Recording.mp4.csv', '/home/student/course-materials/COMP4601-F23/Lecture Captions/Trust-Aware Recommender Systems Lecture Recording.mp4.csv', '/home/student/course-materials/COMP4601-F23/Lecture Captions/Sparsity and the Cold Start Problem Lecture Recording.mp4.csv', '/home/student/course-materials/COMP4601-F23/Lecture Captions/Item-Based Recommendation Lecture Recording.mp4.csv', '/home/student/course-materials/COMP4601-F23/Lecture Captions/Indexing Lecture Recording.mp4.csv', '/home/student/course-materials/COMP4601-F23/Lecture Captions/RESTful Design Lecture Recording.mp4.csv', '/home/student/course-materials/COMP1406-W23/Lecture Captions/MVC.mp4.csv', '/home/student/course-materials/COMP1406-W23/Lecture Captions/File Input and Output Lecture Recording.mp4.csv', '/home/student/course-materials/COMP1406-W23/Lecture Captions/Introduction to ADTs Lecture Recording.mp4.csv', '/home/student/course-materials/COMP1406-W23/Lecture Captions/Exceptions Lecture Recording.mp4.csv', '/home/student/course-materials/COMP1406-W23/Lecture Captions/Abstract Classes Lecture Recording.mp4.csv', '/home/student/course-materials/COMP1406-W23/Lecture Captions/Intro to Classes and Objects.mp4.csv', '/home/student/course-materials/COMP1406-W23/Lecture Captions/Recursion and Other Data Structures Lecture Recording.mp4.csv', '/home/student/course-materials/COMP1406-F23/Lecture Captions/Introduction to Java Lecture Recording.mp4.csv', '/home/student/course-materials/COMP1406-F23/Lecture Captions/Recursion and Other Structures Lecture Recording.mp4.csv', '/home/student/course-materials/COMP1406-F23/Lecture Captions/Introduction to ADTs Leture Recording.mp4.csv', '/home/student/course-materials/COMP1406-F23/Lecture Captions/Course Introduction Lecture Recording.mp4.csv', '/home/student/course-materials/COMP1406-F23/Lecture Captions/Introduction to GUIs and JavaFX Lecture Recording.mp4.csv', '/home/student/course-materials/COMP1406-F23/Lecture Captions/Principles of OOP - Polymorphism Lecture Recording.mp4.csv', '/home/student/course-materials/COMP1406-F23/Lecture Captions/Principles of OOP - Abstraction and Encapsulation Lecture Recording.mp4.csv', '/home/student/course-materials/COMP1406-F23/Lecture Captions/Model View Controller Paradigm Lecture Recording.mp4.csv', '/home/student/course-materials/COMP1406-F23/Lecture Captions/Recursion and Linked Lists Lecture Recording.mp4.csv', '/home/student/course-materials/COMP1406-F23/Lecture Captions/Principles of OOP - Inheritance Lecture Recording.mp4.csv', '/home/student/course-materials/COMP1406-F23/Lecture Captions/Non-Linear ADTs Lecture Recording.mp4.csv', '/home/student/course-materials/COMP1406-F23/Lecture Captions/Interfaces Lecture Recording.mp4.csv', '/home/student/course-materials/COMP1406-F23/Lecture Captions/Introduction to Classes and Objects Lecture Recording.mp4.csv', '/home/student/course-materials/COMP1406-F23/Lecture Captions/Recursion and Binary Trees Lecture Recording.mp4.csv', '/home/student/course-materials/COMP2406-W20/Lecture Captions/Express-P2.mp4.csv', '/home/student/course-materials/COMP2406-W20/Lecture Captions/RESTfulDesign.mp4.csv', '/home/student/course-materials/COMP2406-W20/Lecture Captions/Javascript and the DOM Lecture Recording-retry.mp4.csv', '/home/student/course-materials/COMP2406-W20/Lecture Captions/MoreMongooseAll.mp4.csv', '/home/student/course-materials/COMP2406-W20/Lecture Captions/MongoDB Lecture Recording.mp4.csv', '/home/student/course-materials/COMP2406-W20/Lecture Captions/Client-Server Architecture Lecture Recording.mp4.csv', '/home/student/course-materials/COMP2406-W20/Lecture Captions/Authentication-Authorization-Sessions.mp4.csv', '/home/student/course-materials/COMP2406-W20/Lecture Captions/IntroMongoose.mp4.csv', '/home/student/course-materials/COMP2406-W20/Lecture Captions/Web Apps and HTTP Lecture Recording.mp4.csv', '/home/student/course-materials/COMP2406-W20/Lecture Captions/Deploying to Heroku Recording.mp4.csv', '/home/student/course-materials/COMP2406-W20/Lecture Captions/Intro to Node Lecture Recording.mp4.csv', '/home/student/course-materials/COMP2406-W20/Lecture Captions/Template Engine Code Example Lecture Recording.mp4.csv', '/home/student/course-materials/COMP2406-W20/Lecture Captions/Express Lecture Recording.mp4.csv', '/home/student/course-materials/COMP2406-W20/Lecture Captions/MongoDB-All.mp4.csv', '/home/student/course-materials/COMP2406-W20/Lecture Captions/Express-P1.mp4.csv', '/home/student/course-materials/COMP2406-W20/Lecture Captions/Template Engines Lecture Recording.mp4.csv', '/home/student/course-materials/COMP2406-W20/Lecture Captions/AJAX Lecture Recording.mp4.csv', '/home/student/course-materials/COMP2406-W20/Lecture Captions/Intro to NPM Lecture Recording.mp4.csv', '/home/student/course-materials/COMP1405-F23/Lecture Captions/Nested Looping Structures Lecture Recording.mp4.csv', '/home/student/course-materials/COMP1405-F23/Lecture Captions/Control Structures and Branching Lecture Recording.mp4.csv', '/home/student/course-materials/COMP1405-F23/Lecture Captions/Sorting Lecture Recording.mp4.csv', '/home/student/course-materials/COMP1405-F23/Lecture Captions/Recursion Lecture Recording.mp4.csv', '/home/student/course-materials/COMP1405-F23/Lecture Captions/Complexity Analysis Lecture Recording.mp4.csv', '/home/student/course-materials/COMP1405-F23/Lecture Captions/Computational Thinking and Problem Solving Lecture Recording.mp4.csv', '/home/student/course-materials/COMP1405-F23/Lecture Captions/Linear Collections Lecture Recording.mp4.csv', '/home/student/course-materials/COMP1405-F23/Lecture Captions/Associative Collections Lecture Recording.mp4.csv', '/home/student/course-materials/COMP1405-F23/Lecture Captions/String Operations Lecture Recording.mp4.csv', '/home/student/course-materials/COMP1405-F23/Lecture Captions/Functions and Function Scope Lecture Recording.mp4.csv', '/home/student/course-materials/COMP1405-F23/Lecture Captions/Recursive Sorting Lecture Recording.mp4.csv', '/home/student/course-materials/COMP1405-F23/Lecture Captions/Control Structures and Looping Lecture Recording.mp4.csv', '/home/student/course-materials/COMP1405-F23/Lecture Captions/Introduction to Python Lecture Recording.mp4.csv', '/home/student/course-materials/COMP1405-F23/Lecture Captions/Logical Operators and Boolean Values Lecture Recording.mp4.csv', '/home/student/course-materials/COMP1405-F23/Lecture Captions/Binary Search Lecture Recording.mp4.csv']\n"
     ]
    },
    {
     "ename": "TypeError",
     "evalue": "string indices must be integers",
     "output_type": "error",
     "traceback": [
      "\u001b[0;31m---------------------------------------------------------------------------\u001b[0m",
      "\u001b[0;31mTypeError\u001b[0m                                 Traceback (most recent call last)",
      "Cell \u001b[0;32mIn[114], line 8\u001b[0m\n\u001b[1;32m      5\u001b[0m \u001b[38;5;28mprint\u001b[39m(count)\n\u001b[1;32m      6\u001b[0m \u001b[38;5;28mprint\u001b[39m(output)\n\u001b[0;32m----> 8\u001b[0m files \u001b[38;5;241m=\u001b[39m \u001b[38;5;28;43mset\u001b[39;49m\u001b[43m(\u001b[49m\u001b[38;5;28;43mmap\u001b[39;49m\u001b[43m(\u001b[49m\u001b[38;5;28;43;01mlambda\u001b[39;49;00m\u001b[43m \u001b[49m\u001b[43mx\u001b[49m\u001b[43m:\u001b[49m\u001b[43m \u001b[49m\u001b[43mx\u001b[49m\u001b[43m[\u001b[49m\u001b[38;5;124;43m\"\u001b[39;49m\u001b[38;5;124;43mfile_path\u001b[39;49m\u001b[38;5;124;43m\"\u001b[39;49m\u001b[43m]\u001b[49m\u001b[43m,\u001b[49m\u001b[43m \u001b[49m\u001b[43moutput\u001b[49m\u001b[43m)\u001b[49m\u001b[43m)\u001b[49m\n\u001b[1;32m      9\u001b[0m \u001b[38;5;28mprint\u001b[39m(files)\n\u001b[1;32m     11\u001b[0m key\u001b[38;5;241m=\u001b[39m\u001b[38;5;124m\"\u001b[39m\u001b[38;5;124msummary\u001b[39m\u001b[38;5;124m\"\u001b[39m\n",
      "Cell \u001b[0;32mIn[114], line 8\u001b[0m, in \u001b[0;36m<lambda>\u001b[0;34m(x)\u001b[0m\n\u001b[1;32m      5\u001b[0m \u001b[38;5;28mprint\u001b[39m(count)\n\u001b[1;32m      6\u001b[0m \u001b[38;5;28mprint\u001b[39m(output)\n\u001b[0;32m----> 8\u001b[0m files \u001b[38;5;241m=\u001b[39m \u001b[38;5;28mset\u001b[39m(\u001b[38;5;28mmap\u001b[39m(\u001b[38;5;28;01mlambda\u001b[39;00m x: \u001b[43mx\u001b[49m\u001b[43m[\u001b[49m\u001b[38;5;124;43m\"\u001b[39;49m\u001b[38;5;124;43mfile_path\u001b[39;49m\u001b[38;5;124;43m\"\u001b[39;49m\u001b[43m]\u001b[49m, output))\n\u001b[1;32m      9\u001b[0m \u001b[38;5;28mprint\u001b[39m(files)\n\u001b[1;32m     11\u001b[0m key\u001b[38;5;241m=\u001b[39m\u001b[38;5;124m\"\u001b[39m\u001b[38;5;124msummary\u001b[39m\u001b[38;5;124m\"\u001b[39m\n",
      "\u001b[0;31mTypeError\u001b[0m: string indices must be integers"
     ]
    }
   ],
   "source": [
    "# print(output)\n",
    "from functools import reduce\n",
    "\n",
    "count = len(output)\n",
    "print(count)\n",
    "print(output)\n",
    "\n",
    "files = set(map(lambda x: x[\"file_path\"], output))\n",
    "print(files)\n",
    "\n",
    "key=\"summary\"\n",
    "sum_content_length = reduce(lambda x, y: x + len(y[key]), output, 0)\n",
    "min_content_length = reduce(lambda x, y: min(x, len(y[key])), output, 10_000)\n",
    "max_content_length = reduce(lambda x, y: max(x, len(y[key])), output, 0)\n",
    "print(f'sum_content_length={sum_content_length}')\n",
    "print(f'avg_content_length={sum_content_length/len(output)}')\n",
    "print(f'min_content_length={min_content_length}')\n",
    "print(f'max_content_length={max_content_length}')"
   ]
  },
  {
   "cell_type": "code",
   "execution_count": 49,
   "metadata": {},
   "outputs": [],
   "source": [
    "# for x in output:\n",
    "#     print(x[\"summary\"])"
   ]
  },
  {
   "cell_type": "code",
   "execution_count": 109,
   "metadata": {},
   "outputs": [
    {
     "name": "stdout",
     "output_type": "stream",
     "text": [
      "[{'file_path': '/home/student/course-materials/COMP1405-F19/LectureCaptions/1405-sept30_(SD_Large_-_WEB_MBL_(H264_1500)).mp4.csv', 'kg': '## Knowledge Graph in JSON format:\\n\\n```json\\n{\\n  \"nodes\": [\\n    { \"id\": \"Loops\" },\\n    { \"id\": \"Iteration Variable\" },\\n    { \"id\": \"Range Command\" },\\n    { \"id\": \"For Loop Structure\" },\\n    { \"id\": \"Multiplication Example\" },\\n    { \"id\": \"Complex For Loop\" },\\n    { \"id\": \"Nested Loops\" },\\n    { \"id\": \"Number Mod Three\" },\\n    { \"id\": \"For Loop\" },\\n    { \"id\": \"Nested Loops\" },\\n    { \"id\": \"Combinations\" },\\n    { \"id\": \"Time Calculations\" },\\n    { \"id\": \"12-Hour Clock\" }\\n  ],\\n  \"edges\": [\\n    { \"source\": \"Loops\", \"target\": \"For Loop Structure\" },\\n    { \"source\": \"Iteration Variable\", \"target\": \"For Loop Structure\" },\\n    { \"source\": \"Range Command\", \"target\": \"For Loop Structure\" },\\n    { \"source\": \"For Loop Structure\", \"target\": \"Multiplication Example\" },\\n    { \"source\": \"For Loop Structure\", \"target\": \"Complex For Loop\" },\\n    { \"source\": \"Number Mod Three\", \"target\": \"For Loop\" },\\n    { \"source\": \"For Loop\", \"target\": \"Nested Loops\" },\\n    { \"source\": \"Nested Loops\", \"target\": \"Combinations\" },\\n    { \"source\": \"Combinations\", \"target\": \"Time Calculations\" },\\n    { \"source\": \"Time Calculations\", \"target\": \"12-Hour Clock\" }\\n  ]\\n}\\n```\\n\\n**Notes:**\\n\\n* Only nodes based on large concepts are created.\\n* An edge is created if the source concept is a prequisite to understand the target concept.\\n* The knowledge graph is simplified to include only key concepts and relationships.'}]\n"
     ]
    }
   ],
   "source": [
    "task_create_kg = CreateKnowledgeGraphs(host=\"localhost:11434\")\n",
    "kg_output = task_create_kg.process(transcript_output)\n",
    "print(kg_output)"
   ]
  },
  {
   "cell_type": "code",
   "execution_count": 110,
   "metadata": {},
   "outputs": [
    {
     "name": "stdout",
     "output_type": "stream",
     "text": [
      "1391\n"
     ]
    }
   ],
   "source": [
    "print(len(kg_output[0][\"kg\"]))"
   ]
  },
  {
   "cell_type": "code",
   "execution_count": 6,
   "metadata": {},
   "outputs": [
    {
     "name": "stdout",
     "output_type": "stream",
     "text": [
      "Number of summaries: 31\n"
     ]
    },
    {
     "ename": "KeyError",
     "evalue": "'summary'",
     "output_type": "error",
     "traceback": [
      "\u001b[0;31m---------------------------------------------------------------------------\u001b[0m",
      "\u001b[0;31mKeyError\u001b[0m                                  Traceback (most recent call last)",
      "Cell \u001b[0;32mIn[6], line 2\u001b[0m\n\u001b[1;32m      1\u001b[0m \u001b[38;5;28mprint\u001b[39m(\u001b[38;5;124mf\u001b[39m\u001b[38;5;124m\"\u001b[39m\u001b[38;5;124mNumber of summaries: \u001b[39m\u001b[38;5;132;01m{\u001b[39;00m\u001b[38;5;28mlen\u001b[39m(output)\u001b[38;5;132;01m}\u001b[39;00m\u001b[38;5;124m\"\u001b[39m)\n\u001b[0;32m----> 2\u001b[0m joint_summaries \u001b[38;5;241m=\u001b[39m \u001b[38;5;124m\"\u001b[39m\u001b[38;5;130;01m\\n\u001b[39;00m\u001b[38;5;124m\"\u001b[39m\u001b[38;5;241m.\u001b[39mjoin([\n\u001b[1;32m      3\u001b[0m     single_output[\u001b[38;5;124m'\u001b[39m\u001b[38;5;124msummary\u001b[39m\u001b[38;5;124m'\u001b[39m]\n\u001b[1;32m      4\u001b[0m     \u001b[38;5;28;01mfor\u001b[39;00m single_output \u001b[38;5;129;01min\u001b[39;00m output\n\u001b[1;32m      5\u001b[0m ])\n\u001b[1;32m      6\u001b[0m \u001b[38;5;28mprint\u001b[39m(joint_summaries)\n",
      "Cell \u001b[0;32mIn[6], line 3\u001b[0m, in \u001b[0;36m<listcomp>\u001b[0;34m(.0)\u001b[0m\n\u001b[1;32m      1\u001b[0m \u001b[38;5;28mprint\u001b[39m(\u001b[38;5;124mf\u001b[39m\u001b[38;5;124m\"\u001b[39m\u001b[38;5;124mNumber of summaries: \u001b[39m\u001b[38;5;132;01m{\u001b[39;00m\u001b[38;5;28mlen\u001b[39m(output)\u001b[38;5;132;01m}\u001b[39;00m\u001b[38;5;124m\"\u001b[39m)\n\u001b[1;32m      2\u001b[0m joint_summaries \u001b[38;5;241m=\u001b[39m \u001b[38;5;124m\"\u001b[39m\u001b[38;5;130;01m\\n\u001b[39;00m\u001b[38;5;124m\"\u001b[39m\u001b[38;5;241m.\u001b[39mjoin([\n\u001b[0;32m----> 3\u001b[0m     \u001b[43msingle_output\u001b[49m\u001b[43m[\u001b[49m\u001b[38;5;124;43m'\u001b[39;49m\u001b[38;5;124;43msummary\u001b[39;49m\u001b[38;5;124;43m'\u001b[39;49m\u001b[43m]\u001b[49m\n\u001b[1;32m      4\u001b[0m     \u001b[38;5;28;01mfor\u001b[39;00m single_output \u001b[38;5;129;01min\u001b[39;00m output\n\u001b[1;32m      5\u001b[0m ])\n\u001b[1;32m      6\u001b[0m \u001b[38;5;28mprint\u001b[39m(joint_summaries)\n",
      "\u001b[0;31mKeyError\u001b[0m: 'summary'"
     ]
    }
   ],
   "source": [
    "print(f\"Number of summaries: {len(output)}\")\n",
    "joint_summaries = \"\\n\".join([\n",
    "    single_output['summary']\n",
    "    for single_output in output\n",
    "])\n",
    "print(joint_summaries)"
   ]
  },
  {
   "cell_type": "code",
   "execution_count": 15,
   "metadata": {},
   "outputs": [
    {
     "name": "stdout",
     "output_type": "stream",
     "text": [
      "\n",
      "Given the following key concepts extracted from a university lecture transcript, list the nodes and edges that can form a knowledge graph based on the key topics.\n",
      "Only create nodes based on large concepts. Only create an edge if the source concept is a prequisite to understand the target concept.\n",
      "\n",
      "# Output Format Instructions\n",
      "Produce only JSON output and nothing else like so: ```json\n",
      "{nodes: [{id: <name of concept>}...], edges: [{source: <id of source concept node>, target: <id of target concept node>}]}\n",
      "```\n",
      "# Key Concepts**Key Concepts:**\n",
      "\n",
      "* **Graduate school:** Can be challenging but rewarding, with potential for failure and low salary.\n",
      "* **Midterm exam:** Scheduled for this week, covering chapters 3 and 5.\n",
      "* **Loops:** Important concepts in Python programming, including while loops, range commands, and for loops.\n",
      "* **Computational thinking:** Principles such as identifying similarities and recognizing patterns are essential for solving complex problems.\n",
      "* **Practice problems:** Completion of practice problems is essential for understanding and applying loops.\n",
      "* **Range command:** A command used to generate a set of numbers.\n",
      "* **For loop:** A loop that iterates over a range of numbers.\n",
      "**Key Concepts:**\n",
      "\n",
      "* **For Loop:** A counter-control loop that iterates over a range of numbers.\n",
      "* **Iteration Variable:** The variable assigned to each value in the range of values in a for loop.\n",
      "* **Range Command:** A command that creates a range of numbers.\n",
      "* **Range Operator:** The operator used to create a range of numbers.\n",
      "* **Iteration Range:** The set of numbers generated by a range command.\n",
      "* **Body of the Loop:** The code executed for each value in the range.\n",
      "* **Index Number:** The number associated with each element in a list.\n",
      "* **List Length:** The number of elements in a list.\n",
      "**Key Concepts:**\n",
      "\n",
      "* **For Loop:** A control flow statement that iterates over a sequence of numbers or items.\n",
      "* **Range Function:** A function that generates a sequence of numbers in a range.\n",
      "* **Range Operator:** A shorthand syntax for creating a range of numbers.\n",
      "* **Variable Assignment:** Assigning a value to a variable.\n",
      "* **Multiplication:** Multiplying two numbers together.\n",
      "* **Decomposition:** Breaking down a problem into smaller, manageable parts.\n",
      "* **Logical Operators:** Operators used to compare boolean values and control flow.\n",
      "**Key Concepts:**\n",
      "\n",
      "* **Divisibility by Three, Five, or Seven:**\n",
      "    - Determining whether a number is evenly divisible by three, five, or seven involves taking the modulo of the number by three, five, or seven, respectively, and checking if the result is zero.\n",
      "* **Sum of Numbers:**\n",
      "    - Calculating the sum of numbers evenly divisible by a given number involves adding up all numbers from 0 to the given number that are divisible by the number.\n",
      "* **For Loops:**\n",
      "    - For loops are used when you know the number of iterations or the range of numbers to be executed.\n",
      "    - The syntax of a for loop includes the variable to be iterated over, the initial value, the increment, and the condition.\n",
      "* **Nested Loops:**\n",
      "    - Nested loops are used when you need to iterate over two or more sets of data simultaneously.\n",
      "    - The inner loop iterates over the first set of data, and the outer loop iterates over the second set of data.\n",
      "* **Example Problems:**\n",
      "    - The lecture discussed example problems that involve nested loops, such as calculating the sum of numbers evenly divisible by a given number or finding the factorial of a number.\n",
      "**Key Concepts:**\n",
      "\n",
      "* **Inner and Outer Loops:**\n",
      "   - The loop inside the other loop is called the inner loop.\n",
      "   - The loop on the outside is called the outer loop.\n",
      "* **Iteration:**\n",
      "   - Iteration is the repetition of the body of a looping control structure.\n",
      "   - Inner loop completes all iterations for each iteration of the outer loop.\n",
      "* **Nested Loops:**\n",
      "   - Nested loops are used to generate combinations of items.\n",
      "   - The outer loop iterates over a range of numbers, increasing the inner loop counter for each iteration of the outer loop.\n",
      "* **Combinations:**\n",
      "   - Nested loops are used to generate all combinations of items.\n",
      "   - The number of combinations is equal to the product of the number of items in each loop.\n",
      "\n"
     ]
    }
   ],
   "source": [
    "system_instructions = \"\"\"\n",
    "Given the following key concepts extracted from a university lecture transcript, list the nodes and edges that can form a knowledge graph based on the key topics.\n",
    "Only create nodes based on large concepts. Only create an edge if the source concept is a prequisite to understand the target concept.\n",
    "\"\"\"\n",
    "\n",
    "format_instructions = \"\"\"\n",
    "# Output Format Instructions\n",
    "Produce only JSON output and nothing else like so: ```json\\n{nodes: [{id: <name of concept>}...], edges: [{source: <id of source concept node>, target: <id of target concept node>}]}\\n```\n",
    "\"\"\"\n",
    "\n",
    "summary_instructions = \"\"\"# Key Concepts{summaries}\\n\"\"\".format(summaries=joint_summaries)\n",
    "\n",
    "prompt = system_instructions + format_instructions + summary_instructions\n",
    "\n",
    "print(prompt)"
   ]
  },
  {
   "cell_type": "code",
   "execution_count": 18,
   "metadata": {},
   "outputs": [
    {
     "name": "stdout",
     "output_type": "stream",
     "text": [
      "```json\n",
      "{\n",
      "  \"nodes\": [\n",
      "    {\n",
      "      \"id\": \"Graduate school\"\n",
      "    },\n",
      "    {\n",
      "      \"id\": \"Loops\"\n",
      "    },\n",
      "    {\n",
      "      \"id\": \"Computational thinking\"\n",
      "    },\n",
      "    {\n",
      "      \"id\": \"Practice problems\"\n",
      "    },\n",
      "    {\n",
      "      \"id\": \"Range command\"\n",
      "    },\n",
      "    {\n",
      "      \"id\": \"For loop\"\n",
      "    },\n",
      "    {\n",
      "      \"id\": \"Iteration variable\"\n",
      "    },\n",
      "    {\n",
      "      \"id\": \"Range operator\"\n",
      "    },\n",
      "    {\n",
      "      \"id\": \"Iteration range\"\n",
      "    },\n",
      "    {\n",
      "      \"id\": \"Body of the loop\"\n",
      "    },\n",
      "    {\n",
      "      \"id\": \"Index number\"\n",
      "    },\n",
      "    {\n",
      "      \"id\": \"List length\"\n",
      "    }\n",
      "  ],\n",
      "  \"edges\": [\n",
      "    {\n",
      "      \"source\": \"Graduate school\",\n",
      "      \"target\": \"Practice problems\"\n",
      "    },\n",
      "    {\n",
      "      \"source\": \"Loops\",\n",
      "      \"target\": \"Practice problems\"\n",
      "    },\n",
      "    {\n",
      "      \"source\": \"Computational thinking\",\n",
      "      \"target\": \"Practice problems\"\n",
      "    },\n",
      "    {\n",
      "      \"source\": \"Range command\",\n",
      "      \"target\": \"For loop\"\n",
      "    },\n",
      "    {\n",
      "      \"source\": \"For loop\",\n",
      "      \"target\": \"Iteration variable\"\n",
      "    },\n",
      "    {\n",
      "      \"source\": \"For loop\",\n",
      "      \"target\": \"Range operator\"\n",
      "    },\n",
      "    {\n",
      "      \"source\": \"For loop\",\n",
      "      \"target\": \"Iteration range\"\n",
      "    },\n",
      "    {\n",
      "      \"source\": \"For loop\",\n",
      "      \"target\": \"Body of the loop\"\n",
      "    },\n",
      "    {\n",
      "      \"source\": \"For loop\",\n",
      "      \"target\": \"Index number\"\n",
      "    },\n",
      "    {\n",
      "      \"source\": \"For loop\",\n",
      "      \"target\": \"List length\"\n",
      "    }\n",
      "  ]\n",
      "}\n",
      "```\n"
     ]
    }
   ],
   "source": [
    "import ollama\n",
    "\n",
    "llm = ollama.Client(host=\"localhost:11434\")\n",
    "\n",
    "response = llm.generate(model=\"gemma:7b\", prompt=prompt)\n",
    "print(response[\"response\"])"
   ]
  },
  {
   "cell_type": "code",
   "execution_count": 1,
   "metadata": {},
   "outputs": [],
   "source": [
    "kg_output = [{'file_path': '/opt/course-materials/COMP4601-F23/Lecture Captions/Search Lecture Recording.mp4.csv', 'kg': '## Knowledge Graph in JSON format:\\n\\n```json\\n{\\n \"nodes\": [\\n {\\n \"id\": \"Document Indexing\"\\n },\\n {\\n \"id\": \"Search Queries\"\\n },\\n {\\n \"id\": \"Search Results\"\\n },\\n {\\n \"id\": \"Elastic Lunar\"\\n }\\n ],\\n \"edges\": [\\n {\\n \"source\": \"Document Indexing\",\\n \"target\": \"Search Queries\"\\n },\\n {\\n \"source\": \"Search Queries\",\\n \"target\": \"Search Results\"\\n },\\n {\\n \"source\": \"Search Results\",\\n \"target\": \"Elastic Lunar\"\\n }\\n ]\\n}\\n```\\n\\n**Notes:**\\n\\n* This knowledge graph includes only the key concepts extracted from the lecture transcript, not the details of each concept.\\n* The edges represent the relationships between the concepts, where the source concept is a prerequisite to understand the target concept.\\n* Additional nodes could be added for more specific concepts within each key concept category, such as specific indexing techniques or query operators.'}, {'file_path': '/opt/course-materials/COMP4601-F23/Lecture Captions/Page Rank Lecture Recording.mp4.csv', 'kg': '```json\\n{\\n \"nodes\": [\\n {\\n \"id\": \"PageRank Algorithm\"\\n },\\n {\\n \"id\": \"Content-Based Search\"\\n },\\n {\\n \"id\": \"Keyword Stuffing\"\\n },\\n {\\n \"id\": \"Structural Analysis\"\\n },\\n {\\n \"id\": \"Incoming Links\"\\n },\\n {\\n \"id\": \"Highly Cited Papers\"\\n },\\n {\\n \"id\": \"Markov Chain\"\\n },\\n {\\n \"id\": \"Memoryless\"\\n },\\n {\\n \"id\": \"Discrete Time\"\\n },\\n {\\n \"id\": \"Stochastic\"\\n },\\n {\\n \"id\": \"Adjacency Matrix\"\\n },\\n {\\n \"id\": \"Page Importance Calculation\"\\n },\\n {\\n \"id\": \"Final Probability Matrix\"\\n },\\n {\\n \"id\": \"Power Iteration\"\\n },\\n {\\n \"id\": \"Steady-State Vector\"\\n },\\n {\\n \"id\": \"PageRank Value\"\\n }\\n ],\\n \"edges\": [\\n {\\n \"source\": \"PageRank Algorithm\",\\n \"target\": \"Content-Based Search\"\\n },\\n {\\n \"source\": \"Content-Based Search\",\\n \"target\": \"Keyword Stuffing\"\\n },\\n {\\n \"source\": \"Structural Analysis\",\\n \"target\": \"Incoming Links\"\\n },\\n {\\n \"source\": \"Incoming Links\",\\n \"target\": \"Highly Cited Papers\"\\n },\\n {\\n \"source\": \"Markov Chain\",\\n \"target\": \"Memoryless\"\\n },\\n {\\n \"source\": \"Memoryless\",\\n \"target\": \"Discrete Time\"\\n },\\n {\\n \"source\": \"Discrete Time\",\\n \"target\": \"Stochastic\"\\n },\\n {\\n \"source\": \"Stochastic\",\\n \"target\": \"Adjacency Matrix\"\\n },\\n {\\n \"source\": \"Adjacency Matrix\",\\n \"target\": \"Page Importance Calculation\"\\n },\\n {\\n \"source\": \"Page Importance Calculation\",\\n \"target\": \"Final Probability Matrix\"\\n },\\n {\\n \"source\": \"Final Probability Matrix\",\\n \"target\": \"Power Iteration\"\\n },\\n {\\n \"source\": \"Power Iteration\",\\n \"target\": \"Steady-State Vector\"\\n },\\n {\\n \"source\": \"Steady-State Vector\",\\n \"target\": \"PageRank Value\"\\n }\\n ]\\n}\\n```'}, {'file_path': '/opt/course-materials/COMP4601-F23/Lecture Captions/Intro to Recommender Systems Lecture Recording.mp4.csv', 'kg': '## Knowledge Graph in JSON format based on key concepts from the lecture transcript:\\n\\n```json\\n{\\n \"nodes\": [\\n {\\n \"id\": \"Recommender Systems\"\\n },\\n {\\n \"id\": \"Similar to Search\"\\n },\\n {\\n \"id\": \"Personalization\"\\n },\\n {\\n \"id\": \"Large Data Sets\"\\n },\\n {\\n \"id\": \"Efficiency\"\\n },\\n {\\n \"id\": \"Explicit vs. Implicit Data Collection\"\\n },\\n {\\n \"id\": \"Implicit Ratings\"\\n },\\n {\\n \"id\": \"User Profiling\"\\n },\\n {\\n \"id\": \"Collaborative Recommendation\"\\n },\\n {\\n \"id\": \"Community-Based Recommendations\"\\n },\\n {\\n \"id\": \"Text Extraction\"\\n },\\n {\\n \"id\": \"Data Matrix\"\\n },\\n {\\n \"id\": \"Missing Ratings\"\\n },\\n {\\n \"id\": \"Nearest Neighbor Recommendation\"\\n },\\n {\\n \"id\": \"No One Reviews\"\\n }\\n ],\\n \"edges\": [\\n {\\n \"source\": \"Recommender Systems\",\\n \"target\": \"Similar to Search\"\\n },\\n {\\n \"source\": \"Similar to Search\",\\n \"target\": \"Personalization\"\\n },\\n {\\n \"source\": \"Personalization\",\\n \"target\": \"Large Data Sets\"\\n },\\n {\\n \"source\": \"Large Data Sets\",\\n \"target\": \"Efficiency\"\\n },\\n {\\n \"source\": \"Explicit vs. Implicit Data Collection\",\\n \"target\": \"Implicit Ratings\"\\n },\\n {\\n \"source\": \"Implicit Ratings\",\\n \"target\": \"User Profiling\"\\n },\\n {\\n \"source\": \"User Profiling\",\\n \"target\": \"Collaborative Recommendation\"\\n },\\n {\\n \"source\": \"Collaborative Recommendation\",\\n \"target\": \"Community-Based Recommendations\"\\n },\\n {\\n \"source\": \"Community-Based Recommendations\",\\n \"target\": \"Text Extraction\"\\n },\\n {\\n \"source\": \"Text Extraction\",\\n \"target\": \"Data Matrix\"\\n },\\n {\\n \"source\": \"Data Matrix\",\\n \"target\": \"Missing Ratings\"\\n },\\n {\\n \"source\": \"Missing Ratings\",\\n \"target\": \"Nearest Neighbor Recommendation\"\\n }\\n ]\\n}\\n```\\n\\nThis knowledge graph represents the key concepts from the lecture transcript and their relationships to each other. The nodes represent the key concepts, and the edges represent the relationships between them.'}, {'file_path': '/opt/course-materials/COMP4601-F23/Lecture Captions/Evaluating Recommender Systems Lecture Recording.mp4.csv', 'kg': '## Knowledge Graph\\n\\n```json\\n{\\n \"nodes\": [\\n {\\n \"id\": \"Recommender Systems Evaluation\"\\n },\\n {\\n \"id\": \"Accuracy of Recommendations\"\\n },\\n {\\n \"id\": \"Synthetic Data Sets\"\\n },\\n {\\n \"id\": \"Advantages of Synthetic Data Sets\"\\n },\\n {\\n \"id\": \"Drawbacks of Synthetic Data Sets\"\\n },\\n {\\n \"id\": \"Real-World Applicability\"\\n }\\n ],\\n \"edges\": [\\n {\\n \"source\": \"Recommender Systems Evaluation\",\\n \"target\": \"Accuracy of Recommendations\"\\n },\\n {\\n \"source\": \"Accuracy of Recommendations\",\\n \"target\": \"Synthetic Data Sets\"\\n },\\n {\\n \"source\": \"Synthetic Data Sets\",\\n \"target\": \"Advantages of Synthetic Data Sets\"\\n },\\n {\\n \"source\": \"Advantages of Synthetic Data Sets\",\\n \"target\": \"Real-World Applicability\"\\n }\\n ]\\n}\\n```\\n\\n**Notes:**\\n\\n* Only large concepts are represented as nodes.\\n* An edge is drawn if the source concept is a prerequisite to understand the target concept.'}, {'file_path': '/opt/course-materials/COMP4601-F23/Lecture Captions/Web Scraping Lecture Recording.mp4.csv', 'kg': '```json\\n{\\n \"nodes\": {\\n \"Web Scraping\": null,\\n \"Information Extraction\": null,\\n \"Meta Tags\": null,\\n \"Structured Data\": null,\\n \"RESTful APIs\": null,\\n \"Cheerio\": {\"id\": \"Cheerio\"},\\n \"Paragraph Tags\": null,\\n \"Crawl Your Own Web Page\": null\\n },\\n \"edges\": {\\n \"Web Scraping\" -> \"Information Extraction\",\\n \"Information Extraction\" -> \"Structured Data\",\\n \"Structured Data\" -> \"RESTful APIs\",\\n \"Cheerio\" -> \"Data Extraction\",\\n \"Data Extraction\" -> \"Crawl Your Own Web Page\"\\n }\\n}\\n```'}, {'file_path': '/opt/course-materials/COMP4601-F23/Lecture Captions/Web Crawling Lecture Recording.mp4.csv', 'kg': '```json\\n{\\n\"nodes\": [{\\n\"id\": \"Web Crawling\"\\n}, {\\n\"id\": \"Information Extraction\"\\n}, {\\n\"id\": \"PageRank Algorithm\"\\n}, {\\n\"id\": \"Network Structure\"\\n}, {\\n\"id\": \"URL\"\\n}, {\\n\"id\": \"RESTful Systems\"\\n}, {\\n\"id\": \"Multithreaded Downloader\"\\n}, {\\n\"id\": \"Queue\"\\n}, {\\n\"id\": \"Scheduler\"\\n}, {\\n\"id\": \"Scalable Web Crawling\"\\n}, {\\n\"id\": \"RESTful Design\"\\n}, {\\n\"id\": \"Distributed Web Crawling\"\\n}, {\\n\"id\": \"Crawler Policies\"\\n}, {\\n\"id\": \"Page Importance\"\\n}, {\\n\"id\": \"Page Popularity\"\\n}, {\\n\"id\": \"Network Structure Analysis\"\\n}, {\\n\"id\": \"High-PageRank pages\"\\n}, {\\n\"id\": \"Outgoing links\"\\n}, {\\n\"id\": \"Link probability\"\\n}, {\\n\"id\": \"Freshness\"\\n}, {\\n\"id\": \"Time Decay Function\"\\n}, {\\n\"id\": \"Backlink Count\"\\n}, {\\n\"id\": \"Selection Policy\"\\n}, {\\n\"id\": \"Revisit Policy\"\\n}, {\\n\"id\": \"Politeness Policy\"\\n}, {\\n\"id\": \"Freshness Measure\"\\n}, {\\n\"id\": \"Age Measure\"\\n}, {\\n\"id\": \"Revisit Policy\"\\n}, {\\n\"id\": \"Dynamic Assignment\"\\n}, {\\n\"id\": \"Static Assignment\"\\n}, {\\n\"id\": \"Robot Exclusion Standard\"\\n}, {\\n\"id\": \"Server Overload\"\\n}, {\\n\"id\": \"Parallelization\"\\n}, {\\n\"id\": \"Distributed Shared File Systems\"\\n}, {\\n\"id\": \"MapReduce\"\\n}, {\\n\"id\": \"Blackboard Approaches\"\\n}\\n],\\n\"edges\": [{\\n\"source\": \"Web Crawling\",\\n\"target\": \"Information Extraction\"\\n}, {\\n\"source\": \"Information Extraction\",\\n\"target\": \"PageRank Algorithm\"\\n}, {\\n\"source\": \"PageRank Algorithm\",\\n\"target\": \"Network Structure\"\\n}, {\\n\"source\": \"Network Structure\",\\n\"target\": \"URL\"\\n}, {\\n\"source\": \"URL\",\\n\"target\": \"RESTful Systems\"\\n}, {\\n\"source\": \"RESTful Systems\",\\n\"target\": \"Multithreaded Downloader\"\\n}, {\\n\"source\": \"Multithreaded Downloader\",\\n\"target\": \"Queue\"\\n}, {\\n\"source\": \"Queue\",\\n\"target\": \"Scheduler\"\\n}, {\\n\"source\": \"Scalable Web Crawling\",\\n\"target\": \"RESTful Design\"\\n}, {\\n\"source\": \"RESTful Design\",\\n\"target\": \"Distributed Web Crawling\"\\n}, {\\n\"source\": \"Distributed Web Crawling\",\\n\"target\": \"Crawler Policies\"\\n}, {\\n\"source\": \"Crawler Policies\",\\n\"target\": \"Page Importance\"\\n}, {\\n\"source\": \"Page Importance\",\\n\"target\": \"Page Popularity\"\\n}, {\\n\"source\": \"Page Popularity\",\\n\"target\": \"Network Structure Analysis\"\\n}, {\\n\"source\": \"High-PageRank pages\",\\n\"target\": \"Outgoing links\"\\n}, {\\n\"source\": \"Outgoing links\",\\n\"target\": \"Link probability\"\\n}, {\\n\"source\": \"Freshness\",\\n\"target\": \"Time Decay Function\"\\n}, {\\n\"source\": \"Time Decay Function\",\\n\"target\": \"Backlink Count\"\\n}, {\\n\"source\": \"Backlink Count\",\\n\"target\": \"Selection Policy\"\\n}, {\\n\"source\": \"Selection Policy\",\\n\"target\": \"Revisit Policy\"\\n}, {\\n\"source\": \"Revisit Policy\",\\n\"target\": \"Politeness Policy\"\\n}, {\\n\"source\": \"Politeness Policy\",\\n\"target\": \"Freshness Measure\"\\n}, {\\n\"source\": \"Fresh\\n},\\n}'}, {'file_path': '/opt/course-materials/COMP4601-F23/Lecture Captions/Attacks on Recommender Systems Lecture Recording.mp4.csv', 'kg': '**JSON format:**\\n\\n```json\\n{\\n \"nodes\": [\\n { \"id\": \"Recommender Systems\" },\\n { \"id\": \"Shilling Attacks\" },\\n { \"id\": \"Push and Nuke Attacks\" },\\n { \"id\": \"Cost, Algorithm Dependence, and Detectability\" },\\n { \"id\": \"Review Bombing\" },\\n { \"id\": \"Nearest Neighbor Recommendations\" },\\n { \"id\": \"Naïve Attack\" },\\n { \"id\": \"Account Security Checks\" }\\n ],\\n \"edges\": [\\n { \"source\": \"Recommender Systems\", \"target\": \"Shilling Attacks\" },\\n { \"source\": \"Shilling Attacks\", \"target\": \"Push and Nuke Attacks\" },\\n { \"source\": \"Push and Nuke Attacks\", \"target\": \"Cost, Algorithm Dependence, and Detectability\" },\\n { \"source\": \"Review Bombing\", \"target\": \"Nearest Neighbor Recommendations\" },\\n { \"source\": \"Nearest Neighbor Recommendations\", \"target\": \"Naïve Attack\" },\\n { \"source\": \"Naïve Attack\", \"target\": \"Account Security Checks\" }\\n ]\\n}\\n```\\n\\n**Key concepts:**\\n\\n* Recommender Systems\\n* Shilling Attacks\\n* Push and Nuke Attacks\\n* Cost, Algorithm Dependence, and Detectability\\n* Review Bombing\\n* Nearest Neighbor Recommendations\\n* Naïve Attack\\n* Account Security Checks\\n* Cost of the Attack\\n* Random Attack\\n* Average Attack\\n* Bandwagon Attack\\n* Segment Attack'}, {'file_path': '/opt/course-materials/COMP4601-F23/Lecture Captions/Trust-Aware Recommender Systems Lecture Recording.mp4.csv', 'kg': '## Knowledge Graph\\n\\n```json\\n{\\n \"nodes\": [\\n {\\n \"id\": \"Trust\"\\n },\\n {\\n \"id\": \"Local Trust\"\\n },\\n {\\n \"id\": \"Global Trust\"\\n },\\n {\\n \"id\": \"Trust Matrix\"\\n },\\n {\\n \"id\": \"Ratings Matrix\"\\n },\\n {\\n \"id\": \"Estimated Trust Matrix\"\\n },\\n {\\n \"id\": \"Global Trust Based on Overall Trust Ratings\"\\n }\\n ],\\n \"edges\": [\\n {\\n \"source\": \"Trust\",\\n \"target\": \"Local Trust\"\\n },\\n {\\n \"source\": \"Trust\",\\n \"target\": \"Global Trust\"\\n },\\n {\\n \"source\": \"Local Trust\",\\n \"target\": \"Trust Matrix\"\\n },\\n {\\n \"source\": \"Global Trust\",\\n \"target\": \"Trust Matrix\"\\n },\\n {\\n \"source\": \"Trust Matrix\",\\n \"target\": \"Estimated Trust Matrix\"\\n }\\n ]\\n}\\n```\\n\\n**Notes:**\\n\\n* This knowledge graph includes only the key concepts from the lecture transcript. Other concepts mentioned in the transcript may not be included.\\n* The edges in the knowledge graph represent the relationships between the concepts.\\n* The nodes in the knowledge graph represent the concepts themselves.'}, {'file_path': '/opt/course-materials/COMP4601-F23/Lecture Captions/Sparsity and the Cold Start Problem Lecture Recording.mp4.csv', 'kg': '```json\\n{\\n\"nodes\": [\\n { \"id\": \"Sparsity\" },\\n { \"id\": \"Cold Start Problem\" },\\n { \"id\": \"Network-Based Approaches\" },\\n { \"id\": \"Hybrid Approaches\" },\\n { \"id\": \"Associative Retrieval\" },\\n { \"id\": \"Graph-Based Approach\" },\\n { \"id\": \"Bipartite network\" },\\n { \"id\": \"Spreading activation\" },\\n { \"id\": \"Path length\" },\\n { \"id\": \"Recommendation generation\" },\\n { \"id\": \"Item ranking\" },\\n { \"id\": \"Path traversal\" },\\n { \"id\": \"Multi-step paths\" },\\n { \"id\": \"Activation level\" }\\n],\\n\"edges\": [\\n { \"source\": \"Sparsity\", \"target\": \"Cold Start Problem\" },\\n { \"source\": \"Cold Start Problem\", \"target\": \"Network-Based Approaches\" },\\n { \"source\": \"Network-Based Approaches\", \"target\": \"Hybrid Approaches\" },\\n { \"source\": \"Hybrid Approaches\", \"target\": \"Associative Retrieval\" },\\n { \"source\": \"Associative Retrieval\", \"target\": \"Graph-Based Approach\" },\\n { \"source\": \"Graph-Based Approach\", \"target\": \"Bipartite network\" },\\n { \"source\": \"Bipartite network\", \"target\": \"Spreading activation\" },\\n { \"source\": \"Spreading activation\", \"target\": \"Path length\" },\\n { \"source\": \"Path length\", \"target\": \"Recommendation generation\" },\\n { \"source\": \"Recommendation generation\", \"target\": \"Item ranking\" },\\n { \"source\": \"Item ranking\", \"target\": \"Path traversal\" },\\n { \"source\": \"Path traversal\", \"target\": \"Multi-step paths\" },\\n { \"source\": \"Multi-step paths\", \"target\": \"Activation level\" }\\n]\\n}\\n```'}, {'file_path': '/opt/course-materials/COMP4601-F23/Lecture Captions/Item-Based Recommendation Lecture Recording.mp4.csv', 'kg': '## Knowledge Graph in JSON format based on key concepts from lecture transcript:\\n\\n```json\\n{\\n\"nodes\": [\\n { \"id\": \"Item-Based Nearest Neighbor Recommendation\" },\\n { \"id\": \"User-Based Recommendations\" },\\n { \"id\": \"Pearson Correlation\" },\\n { \"id\": \"All-Pairs Similarity\" },\\n { \"id\": \"Computational Complexity\" },\\n { \"id\": \"Threshold\" },\\n { \"id\": \"Item Similarity\" },\\n { \"id\": \"Cosine Similarity\" },\\n { \"id\": \"Adjusted Cosine Similarity\" },\\n { \"id\": \"Vector Similarity\" },\\n { \"id\": \"Euclidean Length\" },\\n { \"id\": \"Dot Product\" }\\n],\\n\"edges\": [\\n { \"source\": \"Item-Based Nearest Neighbor Recommendation\", \"target\": \"Item-Based Similarity\" },\\n { \"source\": \"User-Based Recommendations\", \"target\": \"User-Based Similarity\" },\\n { \"source\": \"Pearson Correlation\", \"target\": \"All-Pairs Similarity\" },\\n { \"source\": \"All-Pairs Similarity\", \"target\": \"Computational Complexity\" },\\n { \"source\": \"Computational Complexity\", \"target\": \"Threshold\" },\\n { \"source\": \"Item Similarity\", \"target\": \"Item-Based Recommendation\" },\\n { \"source\": \"Item Similarity\", \"target\": \"User-Based Recommendations\" }\\n]\\n}\\n```\\n\\n**Notes:**\\n\\n* This knowledge graph includes only the key concepts discussed in the lecture transcript. It does not include other concepts that may be related to the topic.\\n* The edges in the graph represent the relationships between the concepts. The source concept is a prerequisite to understanding the target concept.\\n* The graph does not include any information about the order in which the concepts were discussed in the lecture.'}, {'file_path': '/opt/course-materials/COMP4601-F23/Lecture Captions/Indexing Lecture Recording.mp4.csv', 'kg': '```json\\n{\\n \"nodes\": [\\n {\\n \"id\": \"Indexing\"\\n },\\n {\\n \"id\": \"Search Engine\"\\n },\\n {\\n \"id\": \"Information Retrieval\"\\n },\\n {\\n \"id\": \"Relevance\"\\n },\\n {\\n \"id\": \"Scalability\"\\n },\\n {\\n \"id\": \"Search Query\"\\n },\\n {\\n \"id\": \"Substrings\"\\n },\\n {\\n \"id\": \"Binary Search\"\\n },\\n {\\n \"id\": \"Precision\"\\n },\\n {\\n \"id\": \"Recall\"\\n },\\n {\\n \"id\": \"Term-document incidence matrix\"\\n },\\n {\\n \"id\": \"Inverted Index\"\\n },\\n {\\n \"id\": \"Term List\"\\n },\\n {\\n \"id\": \"Document Incidence Matrix\"\\n },\\n {\\n \"id\": \"Document Ranking\"\\n },\\n {\\n \"id\": \"Term Frequency\"\\n }\\n ],\\n \"edges\": [\\n {\\n \"source\": \"Indexing\",\\n \"target\": \"Search Engine\"\\n },\\n {\\n \"source\": \"Search Engine\",\\n \"target\": \"Information Retrieval\"\\n },\\n {\\n \"source\": \"Information Retrieval\",\\n \"target\": \"Relevance\"\\n },\\n {\\n \"source\": \"Relevance\",\\n \"target\": \"Scalability\"\\n },\\n {\\n \"source\": \"Scalability\",\\n \"target\": \"Search Query\"\\n },\\n {\\n \"source\": \"Search Query\",\\n \"target\": \"Substrings\"\\n },\\n {\\n \"source\": \"Substrings\",\\n \"target\": \"Binary Search\"\\n },\\n {\\n \"source\": \"Inverted Index\",\\n \"target\": \"Term List\"\\n },\\n {\\n \"source\": \"Term List\",\\n \"target\": \"Document Incidence Matrix\"\\n },\\n {\\n \"source\": \"Document Incidence Matrix\",\\n \"target\": \"Document Ranking\"\\n },\\n {\\n \"source\": \"Document Ranking\",\\n \"target\": \"Term Frequency\"\\n }\\n ]\\n}\\n```'}, {'file_path': '/opt/course-materials/COMP4601-F23/Lecture Captions/RESTful Design Lecture Recording.mp4.csv', 'kg': '## Knowledge Graph\\n\\n```json\\n{\\n \"nodes\": [\\n {\\n \"id\": \"RESTful Design\",\\n \"description\": \"Architectural style for web services that follows principles of interlinking, scalability, and other qualities found on the web.\"\\n },\\n {\\n \"id\": \"Resources\",\\n \"description\": \"Conceptual representations of objects or services that are identified by URIs.\"\\n },\\n {\\n \"id\": \"Client-Server Interactions\",\\n \"description\": \"Exchange of resource representations between clients and servers.\"\\n },\\n {\\n \"id\": \"Stateless\",\\n \"description\": \"Services do not maintain state on the server, each request is independent.\"\\n },\\n {\\n \"id\": \"Catchable\",\\n \"description\": \"Resources are designed to be easily intercepted for debugging purposes.\"\\n },\\n {\\n \"id\": \"Uniform Interface\",\\n \"description\": \"Resources are treated uniformly regardless of their underlying implementation.\"\\n },\\n {\\n \"id\": \"Layered\",\\n \"description\": \"Services are organized into layers, each layer has its own responsibilities.\"\\n },\\n {\\n \"id\": \"Hypermedia\",\\n \"description\": \"Provides links to other resources, allowing clients to navigate and make choices.\"\\n }\\n ],\\n \"edges\": [\\n {\\n \"source\": \"Client-Server Interactions\",\\n \"target\": \"Stateless\"\\n },\\n {\\n \"source\": \"Stateless\",\\n \"target\": \"Catchable\"\\n },\\n {\\n \"source\": \"Uniform Interface\",\\n \"target\": \"Layered\"\\n },\\n {\\n \"source\": \"Layered\",\\n \"target\": \"Hypermedia\"\\n }\\n ]\\n}\\n```\\n\\n**Notes:**\\n\\n* This knowledge graph includes only the key concepts from the transcript that are relevant to the class.\\n* The graph structure represents the relationships between the concepts.\\n* Each node has a unique identifier and a description.\\n* Each edge represents a relationship between two concepts.'}]"
   ]
  },
  {
   "cell_type": "code",
   "execution_count": 15,
   "metadata": {},
   "outputs": [],
   "source": [
    "kg_output[0][\"kg\"] += \"{\""
   ]
  },
  {
   "cell_type": "code",
   "execution_count": 3,
   "metadata": {},
   "outputs": [
    {
     "name": "stdout",
     "output_type": "stream",
     "text": [
      "12\n"
     ]
    }
   ],
   "source": [
    "print(len(kg_output))"
   ]
  },
  {
   "cell_type": "code",
   "execution_count": 27,
   "metadata": {},
   "outputs": [],
   "source": [
    "import json\n",
    "\n",
    "\n",
    "class ExtractJSON(MultiTask):\n",
    "    \"\"\"\n",
    "    Extract JSON content from knowledge graph response\n",
    "    Failed extractions will be documented but excluded from task output\n",
    "    - single_input: {file_path, kg}\n",
    "    - single_output: {file_path, nodes, edges}\n",
    "    \"\"\"\n",
    "\n",
    "    def process(self, data):\n",
    "        results = super().process(data)\n",
    "\n",
    "        # Exclude failures\n",
    "        succesful_results = list(filter(lambda x: x != None, results))\n",
    "        num_failures = len(results) - len(succesful_results)\n",
    "        logging.info(f\"Number of failed extractions={num_failures}\")\n",
    "        return succesful_results\n",
    "\n",
    "    def process_single(self, single_data):\n",
    "        file_path = single_data[\"file_path\"]\n",
    "        raw_kg = single_data[\"kg\"]\n",
    "        logging.info(f\"Extracting JSON from kg for file={file_path}\")\n",
    "\n",
    "        start_delim = \"{\"\n",
    "        start_index = raw_kg.find(start_delim)\n",
    "        end_delim = \"}\"\n",
    "        end_index = raw_kg.rfind(end_delim)\n",
    "        json_like_kg = raw_kg[start_index:end_index + len(end_delim)]\n",
    "        logging.info(f\"KG after string processing={json_like_kg}\")\n",
    "\n",
    "        try:\n",
    "            json_kg = json.loads(json_like_kg)\n",
    "            logging.info(f\"Succesfully parsed as JSON={json_kg}\")\n",
    "        except Exception as e:\n",
    "            logging.info(f\"Unable to parse as JSON error={e}\")\n",
    "            return\n",
    "\n",
    "        result = {\n",
    "            \"file_path\": file_path,\n",
    "            \"nodes\": json_kg[\"nodes\"],\n",
    "            \"edges\": json_kg[\"edges\"],\n",
    "        }\n",
    "        return result\n",
    "\n",
    "\n",
    "task_extract_json = ExtractJSON()\n",
    "kg_json_output = task_extract_json.process(kg_output)"
   ]
  },
  {
   "cell_type": "code",
   "execution_count": 28,
   "metadata": {},
   "outputs": [
    {
     "name": "stdout",
     "output_type": "stream",
     "text": [
      "10\n",
      "[]\n"
     ]
    }
   ],
   "source": [
    "print(len(kg_json_output))\n",
    "print(list(filter(lambda x: x == None, kg_json_output)))"
   ]
  }
 ],
 "metadata": {
  "kernelspec": {
   "display_name": "Python 3",
   "language": "python",
   "name": "python3"
  },
  "language_info": {
   "codemirror_mode": {
    "name": "ipython",
    "version": 3
   },
   "file_extension": ".py",
   "mimetype": "text/x-python",
   "name": "python",
   "nbconvert_exporter": "python",
   "pygments_lexer": "ipython3",
   "version": "3.10.12"
  }
 },
 "nbformat": 4,
 "nbformat_minor": 2
}
