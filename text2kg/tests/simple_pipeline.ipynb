{
 "cells": [
  {
   "cell_type": "code",
   "execution_count": 50,
   "metadata": {},
   "outputs": [],
   "source": [
    "import sys\n",
    "sys.path.append('../../')\n",
    "\n",
    "from text2kg.core import Pipeline, PipelineEngine, Task, MultiTask, LLMTask\n",
    "from text2kg.task import (\n",
    "    LoadFolder,\n",
    "    ExtractTranscripts,\n",
    "    SummarizeTranscripts,\n",
    "    SplitTranscripts,\n",
    ")\n",
    "import logging\n",
    "from typing import List"
   ]
  },
  {
   "cell_type": "code",
   "execution_count": 2,
   "metadata": {},
   "outputs": [],
   "source": [
    "class SimplePipelineEngine(PipelineEngine):\n",
    "    \"\"\"Simple pipeline implementation using Vanilla Python\"\"\"\n",
    "\n",
    "    def execute(self, tasks: List[Task]):\n",
    "        data = None\n",
    "        for task in tasks:\n",
    "            data = task.process(data)\n",
    "            print(f\"Completed task {task}\")\n",
    "        \n",
    "        return data"
   ]
  },
  {
   "cell_type": "code",
   "execution_count": 17,
   "metadata": {},
   "outputs": [],
   "source": [
    "class SelectFew(Task):\n",
    "    \"\"\"\n",
    "    Select few outputs for multi-output task.\n",
    "    Useful for testing :D\n",
    "    \"\"\"\n",
    "\n",
    "    def __init__(self, start_index=0, count=1):\n",
    "        \"\"\"\n",
    "        Args:\n",
    "        - start_index: index to start selection from multi-output\n",
    "        - count: number of outputs to select\n",
    "        \"\"\"\n",
    "        self.start_index = start_index\n",
    "        self.count = count\n",
    "\n",
    "    def process(self, data):\n",
    "        logging.info(f\"Selecting one data from={data}\")\n",
    "        result = data[self.start_index:self.start_index + self.count]\n",
    "        logging.info(f\"Selected result={result}\")\n",
    "        return result\n"
   ]
  },
  {
   "cell_type": "code",
   "execution_count": 71,
   "metadata": {},
   "outputs": [],
   "source": [
    "class GroupByFile(Task):\n",
    "    \"\"\"\n",
    "    Group array-like data by file\n",
    "    - input: [{file_path, summary}]\n",
    "    - output: [[{file_path1, summary}], [{file_path2, summary}]]\n",
    "    \"\"\"\n",
    "\n",
    "    def process(self, data):\n",
    "        logging.info(f\"Creating buckets for data={data}\")\n",
    "        buckets = {}\n",
    "\n",
    "        for single_data in data:\n",
    "            file_path = single_data[\"file_path\"]\n",
    "            if file_path not in buckets:\n",
    "                buckets[file_path] = []\n",
    "\n",
    "            buckets[file_path].append(single_data)\n",
    "\n",
    "        result = list(buckets.values())\n",
    "        logging.info(f\"Created {len(result)} buckets\")\n",
    "        logging.info(f\"Buckets={result}\")\n",
    "        return result"
   ]
  },
  {
   "cell_type": "code",
   "execution_count": 108,
   "metadata": {},
   "outputs": [],
   "source": [
    "class CreateKnowledgeGraphs(MultiTask, LLMTask):\n",
    "    \"\"\"\n",
    "    Invoke an LLM to create knowledge graphs based on summaries\n",
    "    - single_input: [{file_path, summary}]\n",
    "    - single_output: [{file_path, kg, contributors: [str]}]\n",
    "    \"\"\"\n",
    "\n",
    "    DEFAULT_SYSTEM_PROMPT = \"\"\"\n",
    "    Given the following key concepts extracted from a university lecture transcript, list the nodes and edges in JSON format that can form a knowledge graph based on the key topics.\n",
    "    Only create nodes based on large concepts. Only create an edge if the source concept is a prequisite to understand the target concept.\n",
    "    \"\"\"\n",
    "\n",
    "    DEFAULT_FORMAT_PROMPT = \"\"\"\n",
    "    # Output Format Instructions\n",
    "    Produce only JSON output and nothing else like so: ```json\\n{nodes: [{id: <name of concept>}...], edges: [{source: <id of source concept node>, target: <id of target concept node>}]}\\n```\n",
    "    # Key Concepts\n",
    "    \"\"\"\n",
    "\n",
    "    DEFAULT_PROMPT = DEFAULT_SYSTEM_PROMPT + DEFAULT_FORMAT_PROMPT\n",
    "\n",
    "    def __init__(self, prompt=DEFAULT_PROMPT, *args, **kwargs):\n",
    "        super().__init__(prompt, *args, **kwargs)\n",
    "\n",
    "    def process_single(self, single_data):\n",
    "        file_path = single_data[0][\"file_path\"]\n",
    "\n",
    "        logging.info(f\"Creating KG on {len(single_data)} summaries\")\n",
    "        joint_summaries = list(map(lambda x: x[\"summary\"], single_data))\n",
    "        joint_summaries_text = \"\\n\".join(joint_summaries)\n",
    "        # transcript = single_data['summary']\n",
    "\n",
    "        prompt = self.prompt.strip() + joint_summaries_text\n",
    "        logging.info(f\"Creating prompt of length={len(prompt)}\")\n",
    "        logging.info(f\"Creating prompt={prompt}\")\n",
    "        # print(f\"Creating prompt={prompt}\")\n",
    "\n",
    "        response = self._llm.generate(self.model, prompt)\n",
    "        llm_response = response[\"response\"]\n",
    "        logging.info(f\"Received LLM response={llm_response}\")\n",
    "\n",
    "        result = {\n",
    "            \"file_path\": file_path,\n",
    "            \"kg\": llm_response\n",
    "        }\n",
    "        return result"
   ]
  },
  {
   "cell_type": "code",
   "execution_count": 111,
   "metadata": {},
   "outputs": [
    {
     "name": "stdout",
     "output_type": "stream",
     "text": [
      "Completed task <text2kg.task.LoadFolder object at 0x7f722f469e10>\n"
     ]
    }
   ],
   "source": [
    "pipeline = Pipeline(\n",
    "    tasks=[\n",
    "        LoadFolder(folder_path=\"/home/student/course-materials\"),\n",
    "        # SelectFew(),\n",
    "        # SelectFew(start_index=11),\n",
    "        # ExtractTranscripts(),\n",
    "        # SelectFew(),\n",
    "        # SplitTranscripts(max_tokens=6000),\n",
    "        # SelectFew(count=4),\n",
    "        # SummarizeTranscripts(host=\"localhost:11434\"),\n",
    "        # GroupByFile(),\n",
    "        # CreateKnowledgeGraphs(),\n",
    "    ],\n",
    "    pipeline_engine=SimplePipelineEngine(),\n",
    ")\n",
    "output = pipeline.run()\n"
   ]
  },
  {
   "cell_type": "code",
   "execution_count": 114,
   "metadata": {},
   "outputs": [
    {
     "name": "stdout",
     "output_type": "stream",
     "text": [
      "88\n",
      "['/home/student/course-materials/COMP1405-F19/LectureCaptions/1405-dec2_(SD_Large_-_WEB_MBL_(H264_1500)).mp4.csv', '/home/student/course-materials/COMP1405-F19/LectureCaptions/(Supplementary) Data Representation Lecture Recording.mp4.csv', '/home/student/course-materials/COMP1405-F19/LectureCaptions/1405-nov20_(Source).mp4.csv', '/home/student/course-materials/COMP1405-F19/LectureCaptions/1405-nov27_(Source).mp4.csv', '/home/student/course-materials/COMP1405-F19/LectureCaptions/1405-nov18_(SD_Large_-_WEB_MBL_(H264_1500)).mp4.csv', '/home/student/course-materials/COMP1405-F19/LectureCaptions/1405-noc4_(Source).mp4.csv', '/home/student/course-materials/COMP1405-F19/LectureCaptions/1405-sept25_(SD_Large_-_WEB_MBL_(H264_1500)).mp4.csv', '/home/student/course-materials/COMP1405-F19/LectureCaptions/1405b-sept4_(Source).mp4.csv', '/home/student/course-materials/COMP1405-F19/LectureCaptions/1405-nov25_(Source).mp4.csv', '/home/student/course-materials/COMP1405-F19/LectureCaptions/1405-oct30_(SD_Large_-_WEB_MBL_(H264_1500)).mp4.csv', '/home/student/course-materials/COMP1405-F19/LectureCaptions/1405-nov6_(SD_Large_-_WEB_MBL_(H264_1500)).mp4.csv', '/home/student/course-materials/COMP1405-F19/LectureCaptions/1405-sept30_(SD_Large_-_WEB_MBL_(H264_1500)).mp4.csv', '/home/student/course-materials/COMP1405-F19/LectureCaptions/1405-sept9_(Basic_Small_-_WEB_MBL_(H264_600)).mp4.csv', '/home/student/course-materials/COMP1405-F19/LectureCaptions/1405-nov13_(SD_Large_-_WEB_MBL_(H264_1500)).mp4.csv', '/home/student/course-materials/COMP1405-F19/LectureCaptions/1405-sept18_(SD_Large_-_WEB_MBL_(H264_1500)).mp4.csv', '/home/student/course-materials/COMP1405-F19/LectureCaptions/1405-dec4_(Source).mp4.csv', '/home/student/course-materials/COMP1405-F19/LectureCaptions/1405-oct28_(Source).mp4.csv', '/home/student/course-materials/COMP1405-F19/LectureCaptions/1405-sept16_(SD_Large_-_WEB_MBL_(H264_1500)).mp4.csv', '/home/student/course-materials/COMP1405-F19/LectureCaptions/1405-oc2_(SD_Large_-_WEB_MBL_(H264_1500)).mp4.csv', '/home/student/course-materials/COMP1405-F19/LectureCaptions/comp1405-oct9_(SD_Large_-_WEB_MBL_(H264_1500)).mp4.csv', '/home/student/course-materials/COMP1405-F19/LectureCaptions/1405-nov-11_(SD_Large_-_WEB_MBL_(H264_1500)).mp4.csv', '/home/student/course-materials/COMP1405-F19/LectureCaptions/1405-oct_16_(Source).mp4.csv', '/home/student/course-materials/COMP4601-F23/Lecture Captions/Search Lecture Recording.mp4.csv', '/home/student/course-materials/COMP4601-F23/Lecture Captions/Page Rank Lecture Recording.mp4.csv', '/home/student/course-materials/COMP4601-F23/Lecture Captions/Intro to Recommender Systems Lecture Recording.mp4.csv', '/home/student/course-materials/COMP4601-F23/Lecture Captions/Evaluating Recommender Systems Lecture Recording.mp4.csv', '/home/student/course-materials/COMP4601-F23/Lecture Captions/Web Scraping Lecture Recording.mp4.csv', '/home/student/course-materials/COMP4601-F23/Lecture Captions/Web Crawling Lecture Recording.mp4.csv', '/home/student/course-materials/COMP4601-F23/Lecture Captions/Attacks on Recommender Systems Lecture Recording.mp4.csv', '/home/student/course-materials/COMP4601-F23/Lecture Captions/Trust-Aware Recommender Systems Lecture Recording.mp4.csv', '/home/student/course-materials/COMP4601-F23/Lecture Captions/Sparsity and the Cold Start Problem Lecture Recording.mp4.csv', '/home/student/course-materials/COMP4601-F23/Lecture Captions/Item-Based Recommendation Lecture Recording.mp4.csv', '/home/student/course-materials/COMP4601-F23/Lecture Captions/Indexing Lecture Recording.mp4.csv', '/home/student/course-materials/COMP4601-F23/Lecture Captions/RESTful Design Lecture Recording.mp4.csv', '/home/student/course-materials/COMP1406-W23/Lecture Captions/MVC.mp4.csv', '/home/student/course-materials/COMP1406-W23/Lecture Captions/File Input and Output Lecture Recording.mp4.csv', '/home/student/course-materials/COMP1406-W23/Lecture Captions/Introduction to ADTs Lecture Recording.mp4.csv', '/home/student/course-materials/COMP1406-W23/Lecture Captions/Exceptions Lecture Recording.mp4.csv', '/home/student/course-materials/COMP1406-W23/Lecture Captions/Abstract Classes Lecture Recording.mp4.csv', '/home/student/course-materials/COMP1406-W23/Lecture Captions/Intro to Classes and Objects.mp4.csv', '/home/student/course-materials/COMP1406-W23/Lecture Captions/Recursion and Other Data Structures Lecture Recording.mp4.csv', '/home/student/course-materials/COMP1406-F23/Lecture Captions/Introduction to Java Lecture Recording.mp4.csv', '/home/student/course-materials/COMP1406-F23/Lecture Captions/Recursion and Other Structures Lecture Recording.mp4.csv', '/home/student/course-materials/COMP1406-F23/Lecture Captions/Introduction to ADTs Leture Recording.mp4.csv', '/home/student/course-materials/COMP1406-F23/Lecture Captions/Course Introduction Lecture Recording.mp4.csv', '/home/student/course-materials/COMP1406-F23/Lecture Captions/Introduction to GUIs and JavaFX Lecture Recording.mp4.csv', '/home/student/course-materials/COMP1406-F23/Lecture Captions/Principles of OOP - Polymorphism Lecture Recording.mp4.csv', '/home/student/course-materials/COMP1406-F23/Lecture Captions/Principles of OOP - Abstraction and Encapsulation Lecture Recording.mp4.csv', '/home/student/course-materials/COMP1406-F23/Lecture Captions/Model View Controller Paradigm Lecture Recording.mp4.csv', '/home/student/course-materials/COMP1406-F23/Lecture Captions/Recursion and Linked Lists Lecture Recording.mp4.csv', '/home/student/course-materials/COMP1406-F23/Lecture Captions/Principles of OOP - Inheritance Lecture Recording.mp4.csv', '/home/student/course-materials/COMP1406-F23/Lecture Captions/Non-Linear ADTs Lecture Recording.mp4.csv', '/home/student/course-materials/COMP1406-F23/Lecture Captions/Interfaces Lecture Recording.mp4.csv', '/home/student/course-materials/COMP1406-F23/Lecture Captions/Introduction to Classes and Objects Lecture Recording.mp4.csv', '/home/student/course-materials/COMP1406-F23/Lecture Captions/Recursion and Binary Trees Lecture Recording.mp4.csv', '/home/student/course-materials/COMP2406-W20/Lecture Captions/Express-P2.mp4.csv', '/home/student/course-materials/COMP2406-W20/Lecture Captions/RESTfulDesign.mp4.csv', '/home/student/course-materials/COMP2406-W20/Lecture Captions/Javascript and the DOM Lecture Recording-retry.mp4.csv', '/home/student/course-materials/COMP2406-W20/Lecture Captions/MoreMongooseAll.mp4.csv', '/home/student/course-materials/COMP2406-W20/Lecture Captions/MongoDB Lecture Recording.mp4.csv', '/home/student/course-materials/COMP2406-W20/Lecture Captions/Client-Server Architecture Lecture Recording.mp4.csv', '/home/student/course-materials/COMP2406-W20/Lecture Captions/Authentication-Authorization-Sessions.mp4.csv', '/home/student/course-materials/COMP2406-W20/Lecture Captions/IntroMongoose.mp4.csv', '/home/student/course-materials/COMP2406-W20/Lecture Captions/Web Apps and HTTP Lecture Recording.mp4.csv', '/home/student/course-materials/COMP2406-W20/Lecture Captions/Deploying to Heroku Recording.mp4.csv', '/home/student/course-materials/COMP2406-W20/Lecture Captions/Intro to Node Lecture Recording.mp4.csv', '/home/student/course-materials/COMP2406-W20/Lecture Captions/Template Engine Code Example Lecture Recording.mp4.csv', '/home/student/course-materials/COMP2406-W20/Lecture Captions/Express Lecture Recording.mp4.csv', '/home/student/course-materials/COMP2406-W20/Lecture Captions/MongoDB-All.mp4.csv', '/home/student/course-materials/COMP2406-W20/Lecture Captions/Express-P1.mp4.csv', '/home/student/course-materials/COMP2406-W20/Lecture Captions/Template Engines Lecture Recording.mp4.csv', '/home/student/course-materials/COMP2406-W20/Lecture Captions/AJAX Lecture Recording.mp4.csv', '/home/student/course-materials/COMP2406-W20/Lecture Captions/Intro to NPM Lecture Recording.mp4.csv', '/home/student/course-materials/COMP1405-F23/Lecture Captions/Nested Looping Structures Lecture Recording.mp4.csv', '/home/student/course-materials/COMP1405-F23/Lecture Captions/Control Structures and Branching Lecture Recording.mp4.csv', '/home/student/course-materials/COMP1405-F23/Lecture Captions/Sorting Lecture Recording.mp4.csv', '/home/student/course-materials/COMP1405-F23/Lecture Captions/Recursion Lecture Recording.mp4.csv', '/home/student/course-materials/COMP1405-F23/Lecture Captions/Complexity Analysis Lecture Recording.mp4.csv', '/home/student/course-materials/COMP1405-F23/Lecture Captions/Computational Thinking and Problem Solving Lecture Recording.mp4.csv', '/home/student/course-materials/COMP1405-F23/Lecture Captions/Linear Collections Lecture Recording.mp4.csv', '/home/student/course-materials/COMP1405-F23/Lecture Captions/Associative Collections Lecture Recording.mp4.csv', '/home/student/course-materials/COMP1405-F23/Lecture Captions/String Operations Lecture Recording.mp4.csv', '/home/student/course-materials/COMP1405-F23/Lecture Captions/Functions and Function Scope Lecture Recording.mp4.csv', '/home/student/course-materials/COMP1405-F23/Lecture Captions/Recursive Sorting Lecture Recording.mp4.csv', '/home/student/course-materials/COMP1405-F23/Lecture Captions/Control Structures and Looping Lecture Recording.mp4.csv', '/home/student/course-materials/COMP1405-F23/Lecture Captions/Introduction to Python Lecture Recording.mp4.csv', '/home/student/course-materials/COMP1405-F23/Lecture Captions/Logical Operators and Boolean Values Lecture Recording.mp4.csv', '/home/student/course-materials/COMP1405-F23/Lecture Captions/Binary Search Lecture Recording.mp4.csv']\n"
     ]
    },
    {
     "ename": "TypeError",
     "evalue": "string indices must be integers",
     "output_type": "error",
     "traceback": [
      "\u001b[0;31m---------------------------------------------------------------------------\u001b[0m",
      "\u001b[0;31mTypeError\u001b[0m                                 Traceback (most recent call last)",
      "Cell \u001b[0;32mIn[114], line 8\u001b[0m\n\u001b[1;32m      5\u001b[0m \u001b[38;5;28mprint\u001b[39m(count)\n\u001b[1;32m      6\u001b[0m \u001b[38;5;28mprint\u001b[39m(output)\n\u001b[0;32m----> 8\u001b[0m files \u001b[38;5;241m=\u001b[39m \u001b[38;5;28;43mset\u001b[39;49m\u001b[43m(\u001b[49m\u001b[38;5;28;43mmap\u001b[39;49m\u001b[43m(\u001b[49m\u001b[38;5;28;43;01mlambda\u001b[39;49;00m\u001b[43m \u001b[49m\u001b[43mx\u001b[49m\u001b[43m:\u001b[49m\u001b[43m \u001b[49m\u001b[43mx\u001b[49m\u001b[43m[\u001b[49m\u001b[38;5;124;43m\"\u001b[39;49m\u001b[38;5;124;43mfile_path\u001b[39;49m\u001b[38;5;124;43m\"\u001b[39;49m\u001b[43m]\u001b[49m\u001b[43m,\u001b[49m\u001b[43m \u001b[49m\u001b[43moutput\u001b[49m\u001b[43m)\u001b[49m\u001b[43m)\u001b[49m\n\u001b[1;32m      9\u001b[0m \u001b[38;5;28mprint\u001b[39m(files)\n\u001b[1;32m     11\u001b[0m key\u001b[38;5;241m=\u001b[39m\u001b[38;5;124m\"\u001b[39m\u001b[38;5;124msummary\u001b[39m\u001b[38;5;124m\"\u001b[39m\n",
      "Cell \u001b[0;32mIn[114], line 8\u001b[0m, in \u001b[0;36m<lambda>\u001b[0;34m(x)\u001b[0m\n\u001b[1;32m      5\u001b[0m \u001b[38;5;28mprint\u001b[39m(count)\n\u001b[1;32m      6\u001b[0m \u001b[38;5;28mprint\u001b[39m(output)\n\u001b[0;32m----> 8\u001b[0m files \u001b[38;5;241m=\u001b[39m \u001b[38;5;28mset\u001b[39m(\u001b[38;5;28mmap\u001b[39m(\u001b[38;5;28;01mlambda\u001b[39;00m x: \u001b[43mx\u001b[49m\u001b[43m[\u001b[49m\u001b[38;5;124;43m\"\u001b[39;49m\u001b[38;5;124;43mfile_path\u001b[39;49m\u001b[38;5;124;43m\"\u001b[39;49m\u001b[43m]\u001b[49m, output))\n\u001b[1;32m      9\u001b[0m \u001b[38;5;28mprint\u001b[39m(files)\n\u001b[1;32m     11\u001b[0m key\u001b[38;5;241m=\u001b[39m\u001b[38;5;124m\"\u001b[39m\u001b[38;5;124msummary\u001b[39m\u001b[38;5;124m\"\u001b[39m\n",
      "\u001b[0;31mTypeError\u001b[0m: string indices must be integers"
     ]
    }
   ],
   "source": [
    "# print(output)\n",
    "from functools import reduce\n",
    "\n",
    "count = len(output)\n",
    "print(count)\n",
    "print(output)\n",
    "\n",
    "files = set(map(lambda x: x[\"file_path\"], output))\n",
    "print(files)\n",
    "\n",
    "key=\"summary\"\n",
    "sum_content_length = reduce(lambda x, y: x + len(y[key]), output, 0)\n",
    "min_content_length = reduce(lambda x, y: min(x, len(y[key])), output, 10_000)\n",
    "max_content_length = reduce(lambda x, y: max(x, len(y[key])), output, 0)\n",
    "print(f'sum_content_length={sum_content_length}')\n",
    "print(f'avg_content_length={sum_content_length/len(output)}')\n",
    "print(f'min_content_length={min_content_length}')\n",
    "print(f'max_content_length={max_content_length}')"
   ]
  },
  {
   "cell_type": "code",
   "execution_count": 49,
   "metadata": {},
   "outputs": [],
   "source": [
    "# for x in output:\n",
    "#     print(x[\"summary\"])"
   ]
  },
  {
   "cell_type": "code",
   "execution_count": 109,
   "metadata": {},
   "outputs": [
    {
     "name": "stdout",
     "output_type": "stream",
     "text": [
      "[{'file_path': '/home/student/course-materials/COMP1405-F19/LectureCaptions/1405-sept30_(SD_Large_-_WEB_MBL_(H264_1500)).mp4.csv', 'kg': '## Knowledge Graph in JSON format:\\n\\n```json\\n{\\n  \"nodes\": [\\n    { \"id\": \"Loops\" },\\n    { \"id\": \"Iteration Variable\" },\\n    { \"id\": \"Range Command\" },\\n    { \"id\": \"For Loop Structure\" },\\n    { \"id\": \"Multiplication Example\" },\\n    { \"id\": \"Complex For Loop\" },\\n    { \"id\": \"Nested Loops\" },\\n    { \"id\": \"Number Mod Three\" },\\n    { \"id\": \"For Loop\" },\\n    { \"id\": \"Nested Loops\" },\\n    { \"id\": \"Combinations\" },\\n    { \"id\": \"Time Calculations\" },\\n    { \"id\": \"12-Hour Clock\" }\\n  ],\\n  \"edges\": [\\n    { \"source\": \"Loops\", \"target\": \"For Loop Structure\" },\\n    { \"source\": \"Iteration Variable\", \"target\": \"For Loop Structure\" },\\n    { \"source\": \"Range Command\", \"target\": \"For Loop Structure\" },\\n    { \"source\": \"For Loop Structure\", \"target\": \"Multiplication Example\" },\\n    { \"source\": \"For Loop Structure\", \"target\": \"Complex For Loop\" },\\n    { \"source\": \"Number Mod Three\", \"target\": \"For Loop\" },\\n    { \"source\": \"For Loop\", \"target\": \"Nested Loops\" },\\n    { \"source\": \"Nested Loops\", \"target\": \"Combinations\" },\\n    { \"source\": \"Combinations\", \"target\": \"Time Calculations\" },\\n    { \"source\": \"Time Calculations\", \"target\": \"12-Hour Clock\" }\\n  ]\\n}\\n```\\n\\n**Notes:**\\n\\n* Only nodes based on large concepts are created.\\n* An edge is created if the source concept is a prequisite to understand the target concept.\\n* The knowledge graph is simplified to include only key concepts and relationships.'}]\n"
     ]
    }
   ],
   "source": [
    "task_create_kg = CreateKnowledgeGraphs(host=\"localhost:11434\")\n",
    "kg_output = task_create_kg.process(transcript_output)\n",
    "print(kg_output)"
   ]
  },
  {
   "cell_type": "code",
   "execution_count": 110,
   "metadata": {},
   "outputs": [
    {
     "name": "stdout",
     "output_type": "stream",
     "text": [
      "1391\n"
     ]
    }
   ],
   "source": [
    "print(len(kg_output[0][\"kg\"]))"
   ]
  },
  {
   "cell_type": "code",
   "execution_count": 6,
   "metadata": {},
   "outputs": [
    {
     "name": "stdout",
     "output_type": "stream",
     "text": [
      "Number of summaries: 31\n"
     ]
    },
    {
     "ename": "KeyError",
     "evalue": "'summary'",
     "output_type": "error",
     "traceback": [
      "\u001b[0;31m---------------------------------------------------------------------------\u001b[0m",
      "\u001b[0;31mKeyError\u001b[0m                                  Traceback (most recent call last)",
      "Cell \u001b[0;32mIn[6], line 2\u001b[0m\n\u001b[1;32m      1\u001b[0m \u001b[38;5;28mprint\u001b[39m(\u001b[38;5;124mf\u001b[39m\u001b[38;5;124m\"\u001b[39m\u001b[38;5;124mNumber of summaries: \u001b[39m\u001b[38;5;132;01m{\u001b[39;00m\u001b[38;5;28mlen\u001b[39m(output)\u001b[38;5;132;01m}\u001b[39;00m\u001b[38;5;124m\"\u001b[39m)\n\u001b[0;32m----> 2\u001b[0m joint_summaries \u001b[38;5;241m=\u001b[39m \u001b[38;5;124m\"\u001b[39m\u001b[38;5;130;01m\\n\u001b[39;00m\u001b[38;5;124m\"\u001b[39m\u001b[38;5;241m.\u001b[39mjoin([\n\u001b[1;32m      3\u001b[0m     single_output[\u001b[38;5;124m'\u001b[39m\u001b[38;5;124msummary\u001b[39m\u001b[38;5;124m'\u001b[39m]\n\u001b[1;32m      4\u001b[0m     \u001b[38;5;28;01mfor\u001b[39;00m single_output \u001b[38;5;129;01min\u001b[39;00m output\n\u001b[1;32m      5\u001b[0m ])\n\u001b[1;32m      6\u001b[0m \u001b[38;5;28mprint\u001b[39m(joint_summaries)\n",
      "Cell \u001b[0;32mIn[6], line 3\u001b[0m, in \u001b[0;36m<listcomp>\u001b[0;34m(.0)\u001b[0m\n\u001b[1;32m      1\u001b[0m \u001b[38;5;28mprint\u001b[39m(\u001b[38;5;124mf\u001b[39m\u001b[38;5;124m\"\u001b[39m\u001b[38;5;124mNumber of summaries: \u001b[39m\u001b[38;5;132;01m{\u001b[39;00m\u001b[38;5;28mlen\u001b[39m(output)\u001b[38;5;132;01m}\u001b[39;00m\u001b[38;5;124m\"\u001b[39m)\n\u001b[1;32m      2\u001b[0m joint_summaries \u001b[38;5;241m=\u001b[39m \u001b[38;5;124m\"\u001b[39m\u001b[38;5;130;01m\\n\u001b[39;00m\u001b[38;5;124m\"\u001b[39m\u001b[38;5;241m.\u001b[39mjoin([\n\u001b[0;32m----> 3\u001b[0m     \u001b[43msingle_output\u001b[49m\u001b[43m[\u001b[49m\u001b[38;5;124;43m'\u001b[39;49m\u001b[38;5;124;43msummary\u001b[39;49m\u001b[38;5;124;43m'\u001b[39;49m\u001b[43m]\u001b[49m\n\u001b[1;32m      4\u001b[0m     \u001b[38;5;28;01mfor\u001b[39;00m single_output \u001b[38;5;129;01min\u001b[39;00m output\n\u001b[1;32m      5\u001b[0m ])\n\u001b[1;32m      6\u001b[0m \u001b[38;5;28mprint\u001b[39m(joint_summaries)\n",
      "\u001b[0;31mKeyError\u001b[0m: 'summary'"
     ]
    }
   ],
   "source": [
    "print(f\"Number of summaries: {len(output)}\")\n",
    "joint_summaries = \"\\n\".join([\n",
    "    single_output['summary']\n",
    "    for single_output in output\n",
    "])\n",
    "print(joint_summaries)"
   ]
  },
  {
   "cell_type": "code",
   "execution_count": 15,
   "metadata": {},
   "outputs": [
    {
     "name": "stdout",
     "output_type": "stream",
     "text": [
      "\n",
      "Given the following key concepts extracted from a university lecture transcript, list the nodes and edges that can form a knowledge graph based on the key topics.\n",
      "Only create nodes based on large concepts. Only create an edge if the source concept is a prequisite to understand the target concept.\n",
      "\n",
      "# Output Format Instructions\n",
      "Produce only JSON output and nothing else like so: ```json\n",
      "{nodes: [{id: <name of concept>}...], edges: [{source: <id of source concept node>, target: <id of target concept node>}]}\n",
      "```\n",
      "# Key Concepts**Key Concepts:**\n",
      "\n",
      "* **Graduate school:** Can be challenging but rewarding, with potential for failure and low salary.\n",
      "* **Midterm exam:** Scheduled for this week, covering chapters 3 and 5.\n",
      "* **Loops:** Important concepts in Python programming, including while loops, range commands, and for loops.\n",
      "* **Computational thinking:** Principles such as identifying similarities and recognizing patterns are essential for solving complex problems.\n",
      "* **Practice problems:** Completion of practice problems is essential for understanding and applying loops.\n",
      "* **Range command:** A command used to generate a set of numbers.\n",
      "* **For loop:** A loop that iterates over a range of numbers.\n",
      "**Key Concepts:**\n",
      "\n",
      "* **For Loop:** A counter-control loop that iterates over a range of numbers.\n",
      "* **Iteration Variable:** The variable assigned to each value in the range of values in a for loop.\n",
      "* **Range Command:** A command that creates a range of numbers.\n",
      "* **Range Operator:** The operator used to create a range of numbers.\n",
      "* **Iteration Range:** The set of numbers generated by a range command.\n",
      "* **Body of the Loop:** The code executed for each value in the range.\n",
      "* **Index Number:** The number associated with each element in a list.\n",
      "* **List Length:** The number of elements in a list.\n",
      "**Key Concepts:**\n",
      "\n",
      "* **For Loop:** A control flow statement that iterates over a sequence of numbers or items.\n",
      "* **Range Function:** A function that generates a sequence of numbers in a range.\n",
      "* **Range Operator:** A shorthand syntax for creating a range of numbers.\n",
      "* **Variable Assignment:** Assigning a value to a variable.\n",
      "* **Multiplication:** Multiplying two numbers together.\n",
      "* **Decomposition:** Breaking down a problem into smaller, manageable parts.\n",
      "* **Logical Operators:** Operators used to compare boolean values and control flow.\n",
      "**Key Concepts:**\n",
      "\n",
      "* **Divisibility by Three, Five, or Seven:**\n",
      "    - Determining whether a number is evenly divisible by three, five, or seven involves taking the modulo of the number by three, five, or seven, respectively, and checking if the result is zero.\n",
      "* **Sum of Numbers:**\n",
      "    - Calculating the sum of numbers evenly divisible by a given number involves adding up all numbers from 0 to the given number that are divisible by the number.\n",
      "* **For Loops:**\n",
      "    - For loops are used when you know the number of iterations or the range of numbers to be executed.\n",
      "    - The syntax of a for loop includes the variable to be iterated over, the initial value, the increment, and the condition.\n",
      "* **Nested Loops:**\n",
      "    - Nested loops are used when you need to iterate over two or more sets of data simultaneously.\n",
      "    - The inner loop iterates over the first set of data, and the outer loop iterates over the second set of data.\n",
      "* **Example Problems:**\n",
      "    - The lecture discussed example problems that involve nested loops, such as calculating the sum of numbers evenly divisible by a given number or finding the factorial of a number.\n",
      "**Key Concepts:**\n",
      "\n",
      "* **Inner and Outer Loops:**\n",
      "   - The loop inside the other loop is called the inner loop.\n",
      "   - The loop on the outside is called the outer loop.\n",
      "* **Iteration:**\n",
      "   - Iteration is the repetition of the body of a looping control structure.\n",
      "   - Inner loop completes all iterations for each iteration of the outer loop.\n",
      "* **Nested Loops:**\n",
      "   - Nested loops are used to generate combinations of items.\n",
      "   - The outer loop iterates over a range of numbers, increasing the inner loop counter for each iteration of the outer loop.\n",
      "* **Combinations:**\n",
      "   - Nested loops are used to generate all combinations of items.\n",
      "   - The number of combinations is equal to the product of the number of items in each loop.\n",
      "\n"
     ]
    }
   ],
   "source": [
    "system_instructions = \"\"\"\n",
    "Given the following key concepts extracted from a university lecture transcript, list the nodes and edges that can form a knowledge graph based on the key topics.\n",
    "Only create nodes based on large concepts. Only create an edge if the source concept is a prequisite to understand the target concept.\n",
    "\"\"\"\n",
    "\n",
    "format_instructions = \"\"\"\n",
    "# Output Format Instructions\n",
    "Produce only JSON output and nothing else like so: ```json\\n{nodes: [{id: <name of concept>}...], edges: [{source: <id of source concept node>, target: <id of target concept node>}]}\\n```\n",
    "\"\"\"\n",
    "\n",
    "summary_instructions = \"\"\"# Key Concepts{summaries}\\n\"\"\".format(summaries=joint_summaries)\n",
    "\n",
    "prompt = system_instructions + format_instructions + summary_instructions\n",
    "\n",
    "print(prompt)"
   ]
  },
  {
   "cell_type": "code",
   "execution_count": 18,
   "metadata": {},
   "outputs": [
    {
     "name": "stdout",
     "output_type": "stream",
     "text": [
      "```json\n",
      "{\n",
      "  \"nodes\": [\n",
      "    {\n",
      "      \"id\": \"Graduate school\"\n",
      "    },\n",
      "    {\n",
      "      \"id\": \"Loops\"\n",
      "    },\n",
      "    {\n",
      "      \"id\": \"Computational thinking\"\n",
      "    },\n",
      "    {\n",
      "      \"id\": \"Practice problems\"\n",
      "    },\n",
      "    {\n",
      "      \"id\": \"Range command\"\n",
      "    },\n",
      "    {\n",
      "      \"id\": \"For loop\"\n",
      "    },\n",
      "    {\n",
      "      \"id\": \"Iteration variable\"\n",
      "    },\n",
      "    {\n",
      "      \"id\": \"Range operator\"\n",
      "    },\n",
      "    {\n",
      "      \"id\": \"Iteration range\"\n",
      "    },\n",
      "    {\n",
      "      \"id\": \"Body of the loop\"\n",
      "    },\n",
      "    {\n",
      "      \"id\": \"Index number\"\n",
      "    },\n",
      "    {\n",
      "      \"id\": \"List length\"\n",
      "    }\n",
      "  ],\n",
      "  \"edges\": [\n",
      "    {\n",
      "      \"source\": \"Graduate school\",\n",
      "      \"target\": \"Practice problems\"\n",
      "    },\n",
      "    {\n",
      "      \"source\": \"Loops\",\n",
      "      \"target\": \"Practice problems\"\n",
      "    },\n",
      "    {\n",
      "      \"source\": \"Computational thinking\",\n",
      "      \"target\": \"Practice problems\"\n",
      "    },\n",
      "    {\n",
      "      \"source\": \"Range command\",\n",
      "      \"target\": \"For loop\"\n",
      "    },\n",
      "    {\n",
      "      \"source\": \"For loop\",\n",
      "      \"target\": \"Iteration variable\"\n",
      "    },\n",
      "    {\n",
      "      \"source\": \"For loop\",\n",
      "      \"target\": \"Range operator\"\n",
      "    },\n",
      "    {\n",
      "      \"source\": \"For loop\",\n",
      "      \"target\": \"Iteration range\"\n",
      "    },\n",
      "    {\n",
      "      \"source\": \"For loop\",\n",
      "      \"target\": \"Body of the loop\"\n",
      "    },\n",
      "    {\n",
      "      \"source\": \"For loop\",\n",
      "      \"target\": \"Index number\"\n",
      "    },\n",
      "    {\n",
      "      \"source\": \"For loop\",\n",
      "      \"target\": \"List length\"\n",
      "    }\n",
      "  ]\n",
      "}\n",
      "```\n"
     ]
    }
   ],
   "source": [
    "import ollama\n",
    "\n",
    "llm = ollama.Client(host=\"localhost:11434\")\n",
    "\n",
    "response = llm.generate(model=\"gemma:7b\", prompt=prompt)\n",
    "print(response[\"response\"])"
   ]
  }
 ],
 "metadata": {
  "kernelspec": {
   "display_name": "Python 3",
   "language": "python",
   "name": "python3"
  },
  "language_info": {
   "codemirror_mode": {
    "name": "ipython",
    "version": 3
   },
   "file_extension": ".py",
   "mimetype": "text/x-python",
   "name": "python",
   "nbconvert_exporter": "python",
   "pygments_lexer": "ipython3",
   "version": "3.10.12"
  }
 },
 "nbformat": 4,
 "nbformat_minor": 2
}
